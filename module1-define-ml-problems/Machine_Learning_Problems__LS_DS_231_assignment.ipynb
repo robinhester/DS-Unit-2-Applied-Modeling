{
  "nbformat": 4,
  "nbformat_minor": 0,
  "metadata": {
    "kernelspec": {
      "display_name": "Python 3",
      "language": "python",
      "name": "python3"
    },
    "language_info": {
      "codemirror_mode": {
        "name": "ipython",
        "version": 3
      },
      "file_extension": ".py",
      "mimetype": "text/x-python",
      "name": "python",
      "nbconvert_exporter": "python",
      "pygments_lexer": "ipython3",
      "version": "3.7.6"
    },
    "colab": {
      "name": "Machine_Learning_Problems_ LS_DS_231_assignment.ipynb",
      "provenance": [],
      "include_colab_link": true
    }
  },
  "cells": [
    {
      "cell_type": "markdown",
      "metadata": {
        "id": "view-in-github",
        "colab_type": "text"
      },
      "source": [
        "<a href=\"https://colab.research.google.com/github/robinhester/DS-Unit-2-Applied-Modeling/blob/master/module1-define-ml-problems/Machine_Learning_Problems__LS_DS_231_assignment.ipynb\" target=\"_parent\"><img src=\"https://colab.research.google.com/assets/colab-badge.svg\" alt=\"Open In Colab\"/></a>"
      ]
    },
    {
      "cell_type": "markdown",
      "metadata": {
        "colab_type": "text",
        "id": "nCc3XZEyG3XV"
      },
      "source": [
        "Lambda School Data Science\n",
        "\n",
        "*Unit 2, Sprint 3, Module 1*\n",
        "\n",
        "---\n",
        "\n",
        "\n",
        "# Define ML problems\n",
        "\n",
        "You will use your portfolio project dataset for all assignments this sprint.\n",
        "\n",
        "## Assignment\n",
        "\n",
        "Complete these tasks for your project, and document your decisions.\n",
        "\n",
        "- [ ] Choose your target. Which column in your tabular dataset will you predict?\n",
        "- [ ] Is your problem regression or classification?\n",
        "- [ ] How is your target distributed?\n",
        "    - Classification: How many classes? Are the classes imbalanced?\n",
        "    - Regression: Is the target right-skewed? If so, you may want to log transform the target.\n",
        "- [ ] Choose your evaluation metric(s).\n",
        "    - Classification: Is your majority class frequency >= 50% and < 70% ? If so, you can just use accuracy if you want. Outside that range, accuracy could be misleading. What evaluation metric will you choose, in addition to or instead of accuracy?\n",
        "    - Regression: Will you use mean absolute error, root mean squared error, R^2, or other regression metrics?\n",
        "- [ ] Choose which observations you will use to train, validate, and test your model.\n",
        "    - Are some observations outliers? Will you exclude them?\n",
        "    - Will you do a random split or a time-based split?\n",
        "- [ ] Begin to clean and explore your data.\n",
        "- [ ] Begin to choose which features, if any, to exclude. Would some features \"leak\" future information?\n",
        "\n",
        "If you haven't found a dataset yet, do that today. [Review requirements for your portfolio project](https://lambdaschool.github.io/ds/unit2) and choose your dataset.\n",
        "\n",
        "Some students worry, ***what if my model isn't “good”?*** Then, [produce a detailed tribute to your wrongness. That is science!](https://twitter.com/nathanwpyle/status/1176860147223867393)"
      ]
    },
    {
      "cell_type": "code",
      "metadata": {
        "id": "a6tV14nljo_6",
        "colab_type": "code",
        "colab": {}
      },
      "source": [
        "import pandas as pd"
      ],
      "execution_count": 0,
      "outputs": []
    },
    {
      "cell_type": "code",
      "metadata": {
        "id": "5e7EjVoxHc5E",
        "colab_type": "code",
        "colab": {}
      },
      "source": [
        "hs = pd.read_csv('https://raw.githubusercontent.com/robinhester/Hearthstone_Build/master/top_hearthstone_decks_20200221.csv')"
      ],
      "execution_count": 0,
      "outputs": []
    },
    {
      "cell_type": "code",
      "metadata": {
        "id": "KImw42QIjzhx",
        "colab_type": "code",
        "colab": {
          "base_uri": "https://localhost:8080/",
          "height": 343
        },
        "outputId": "07a4693a-e734-4036-9c4a-56faddd23939"
      },
      "source": [
        "hs.head()"
      ],
      "execution_count": 94,
      "outputs": [
        {
          "output_type": "execute_result",
          "data": {
            "text/html": [
              "<div>\n",
              "<style scoped>\n",
              "    .dataframe tbody tr th:only-of-type {\n",
              "        vertical-align: middle;\n",
              "    }\n",
              "\n",
              "    .dataframe tbody tr th {\n",
              "        vertical-align: top;\n",
              "    }\n",
              "\n",
              "    .dataframe thead th {\n",
              "        text-align: right;\n",
              "    }\n",
              "</style>\n",
              "<table border=\"1\" class=\"dataframe\">\n",
              "  <thead>\n",
              "    <tr style=\"text-align: right;\">\n",
              "      <th></th>\n",
              "      <th>type</th>\n",
              "      <th>dust</th>\n",
              "      <th>wr</th>\n",
              "      <th>games</th>\n",
              "      <th>duration</th>\n",
              "      <th>card_0</th>\n",
              "      <th>card_1</th>\n",
              "      <th>card_2</th>\n",
              "      <th>card_3</th>\n",
              "      <th>card_4</th>\n",
              "      <th>card_5</th>\n",
              "      <th>card_6</th>\n",
              "      <th>card_7</th>\n",
              "      <th>card_8</th>\n",
              "      <th>card_9</th>\n",
              "      <th>card_10</th>\n",
              "      <th>card_11</th>\n",
              "      <th>card_12</th>\n",
              "      <th>card_13</th>\n",
              "      <th>card_14</th>\n",
              "      <th>card_15</th>\n",
              "      <th>card_16</th>\n",
              "      <th>card_17</th>\n",
              "      <th>card_18</th>\n",
              "      <th>card_19</th>\n",
              "      <th>card_20</th>\n",
              "      <th>card_21</th>\n",
              "      <th>card_22</th>\n",
              "      <th>card_23</th>\n",
              "      <th>card_24</th>\n",
              "      <th>card_25</th>\n",
              "      <th>card_26</th>\n",
              "      <th>card_27</th>\n",
              "      <th>card_28</th>\n",
              "      <th>card_29</th>\n",
              "      <th>wins</th>\n",
              "      <th>hero</th>\n",
              "    </tr>\n",
              "  </thead>\n",
              "  <tbody>\n",
              "    <tr>\n",
              "      <th>0</th>\n",
              "      <td>Resurrect Priest</td>\n",
              "      <td>9840</td>\n",
              "      <td>0.602</td>\n",
              "      <td>1100</td>\n",
              "      <td>11.0</td>\n",
              "      <td>Forbidden Words</td>\n",
              "      <td>Penance</td>\n",
              "      <td>Bad Luck Albatross</td>\n",
              "      <td>Breath of the Infinite</td>\n",
              "      <td>Grave Rune</td>\n",
              "      <td>Mass Dispel</td>\n",
              "      <td>Psychopomp</td>\n",
              "      <td>Convincing Infiltrator</td>\n",
              "      <td>Mass Hysteria</td>\n",
              "      <td>Sandhoof Waterbearer</td>\n",
              "      <td>Time Rip</td>\n",
              "      <td>Zilliax</td>\n",
              "      <td>Khartut Defender</td>\n",
              "      <td>Galakrond, the Unspeakable</td>\n",
              "      <td>Catrina Muerte</td>\n",
              "      <td>Mass Resurrection</td>\n",
              "      <td>Plague of Death</td>\n",
              "      <td>Zerek's Cloning Gallery</td>\n",
              "      <td>NaN</td>\n",
              "      <td>NaN</td>\n",
              "      <td>NaN</td>\n",
              "      <td>NaN</td>\n",
              "      <td>NaN</td>\n",
              "      <td>NaN</td>\n",
              "      <td>NaN</td>\n",
              "      <td>NaN</td>\n",
              "      <td>NaN</td>\n",
              "      <td>NaN</td>\n",
              "      <td>NaN</td>\n",
              "      <td>NaN</td>\n",
              "      <td>662.2</td>\n",
              "      <td>Priest</td>\n",
              "    </tr>\n",
              "    <tr>\n",
              "      <th>1</th>\n",
              "      <td>Dragon Hunter</td>\n",
              "      <td>5280</td>\n",
              "      <td>0.598</td>\n",
              "      <td>43000</td>\n",
              "      <td>5.6</td>\n",
              "      <td>Blazing Battlemage</td>\n",
              "      <td>Dwarven Sharpshooter</td>\n",
              "      <td>Tracking</td>\n",
              "      <td>Corrosive Breath</td>\n",
              "      <td>Faerie Dragon</td>\n",
              "      <td>Freezing Trap</td>\n",
              "      <td>Phase Stalker</td>\n",
              "      <td>Snake Trap</td>\n",
              "      <td>Primordial Explorer</td>\n",
              "      <td>Scalerider</td>\n",
              "      <td>Stormhammer</td>\n",
              "      <td>Dragonbane</td>\n",
              "      <td>Evasive Feywing</td>\n",
              "      <td>Frenzied Felwing</td>\n",
              "      <td>Big Ol' Whelp</td>\n",
              "      <td>Leeroy Jenkins</td>\n",
              "      <td>Rotnest Drake</td>\n",
              "      <td>NaN</td>\n",
              "      <td>NaN</td>\n",
              "      <td>NaN</td>\n",
              "      <td>NaN</td>\n",
              "      <td>NaN</td>\n",
              "      <td>NaN</td>\n",
              "      <td>NaN</td>\n",
              "      <td>NaN</td>\n",
              "      <td>NaN</td>\n",
              "      <td>NaN</td>\n",
              "      <td>NaN</td>\n",
              "      <td>NaN</td>\n",
              "      <td>NaN</td>\n",
              "      <td>25714.0</td>\n",
              "      <td>Hunter</td>\n",
              "    </tr>\n",
              "    <tr>\n",
              "      <th>2</th>\n",
              "      <td>Highlander Hunter</td>\n",
              "      <td>15600</td>\n",
              "      <td>0.593</td>\n",
              "      <td>1800</td>\n",
              "      <td>7.2</td>\n",
              "      <td>Blazing Battlemage</td>\n",
              "      <td>Crystallizer</td>\n",
              "      <td>Dwarven Sharpshooter</td>\n",
              "      <td>Springpaw</td>\n",
              "      <td>Tracking</td>\n",
              "      <td>Faerie Dragon</td>\n",
              "      <td>Phase Stalker</td>\n",
              "      <td>Rat Trap</td>\n",
              "      <td>Snake Trap</td>\n",
              "      <td>Sunreaver Spy</td>\n",
              "      <td>Zephrys the Great</td>\n",
              "      <td>Animal Companion</td>\n",
              "      <td>Deadly Shot</td>\n",
              "      <td>Desert Spear</td>\n",
              "      <td>Diving Gryphon</td>\n",
              "      <td>Kill Command</td>\n",
              "      <td>Nightmare Amalgam</td>\n",
              "      <td>Primordial Explorer</td>\n",
              "      <td>SN1P-SN4P</td>\n",
              "      <td>Stormhammer</td>\n",
              "      <td>Unleash the Hounds</td>\n",
              "      <td>Ursatron</td>\n",
              "      <td>Dragonmaw Poacher</td>\n",
              "      <td>Houndmaster Shaw</td>\n",
              "      <td>Faceless Corruptor</td>\n",
              "      <td>Zilliax</td>\n",
              "      <td>Veranus</td>\n",
              "      <td>Dinotamer Brann</td>\n",
              "      <td>Siamat</td>\n",
              "      <td>Dragonqueen Alexstrasza</td>\n",
              "      <td>1067.4</td>\n",
              "      <td>Hunter</td>\n",
              "    </tr>\n",
              "    <tr>\n",
              "      <th>3</th>\n",
              "      <td>Dragon Hunter</td>\n",
              "      <td>5340</td>\n",
              "      <td>0.591</td>\n",
              "      <td>3000</td>\n",
              "      <td>5.8</td>\n",
              "      <td>Blazing Battlemage</td>\n",
              "      <td>Dwarven Sharpshooter</td>\n",
              "      <td>Tracking</td>\n",
              "      <td>Corrosive Breath</td>\n",
              "      <td>Faerie Dragon</td>\n",
              "      <td>Freezing Trap</td>\n",
              "      <td>Phase Stalker</td>\n",
              "      <td>Snake Trap</td>\n",
              "      <td>Primordial Explorer</td>\n",
              "      <td>Scalerider</td>\n",
              "      <td>Stormhammer</td>\n",
              "      <td>Dragonbane</td>\n",
              "      <td>Evasive Feywing</td>\n",
              "      <td>Frenzied Felwing</td>\n",
              "      <td>Lifedrinker</td>\n",
              "      <td>Big Ol' Whelp</td>\n",
              "      <td>Leeroy Jenkins</td>\n",
              "      <td>Rotnest Drake</td>\n",
              "      <td>NaN</td>\n",
              "      <td>NaN</td>\n",
              "      <td>NaN</td>\n",
              "      <td>NaN</td>\n",
              "      <td>NaN</td>\n",
              "      <td>NaN</td>\n",
              "      <td>NaN</td>\n",
              "      <td>NaN</td>\n",
              "      <td>NaN</td>\n",
              "      <td>NaN</td>\n",
              "      <td>NaN</td>\n",
              "      <td>NaN</td>\n",
              "      <td>1773.0</td>\n",
              "      <td>Hunter</td>\n",
              "    </tr>\n",
              "    <tr>\n",
              "      <th>4</th>\n",
              "      <td>Mech Paladin</td>\n",
              "      <td>6240</td>\n",
              "      <td>0.589</td>\n",
              "      <td>1100</td>\n",
              "      <td>5.5</td>\n",
              "      <td>Blessing of Wisdom</td>\n",
              "      <td>Crystology</td>\n",
              "      <td>Glow-Tron</td>\n",
              "      <td>Hot Air Balloon</td>\n",
              "      <td>Mecharoo</td>\n",
              "      <td>Galvanizer</td>\n",
              "      <td>Shotbot</td>\n",
              "      <td>Goboglide Tech</td>\n",
              "      <td>Sky Claw</td>\n",
              "      <td>SN1P-SN4P</td>\n",
              "      <td>Annoy-o-Module</td>\n",
              "      <td>Blessing of Kings</td>\n",
              "      <td>Replicating Menace</td>\n",
              "      <td>Truesilver Champion</td>\n",
              "      <td>Leeroy Jenkins</td>\n",
              "      <td>Wargear</td>\n",
              "      <td>Zilliax</td>\n",
              "      <td>NaN</td>\n",
              "      <td>NaN</td>\n",
              "      <td>NaN</td>\n",
              "      <td>NaN</td>\n",
              "      <td>NaN</td>\n",
              "      <td>NaN</td>\n",
              "      <td>NaN</td>\n",
              "      <td>NaN</td>\n",
              "      <td>NaN</td>\n",
              "      <td>NaN</td>\n",
              "      <td>NaN</td>\n",
              "      <td>NaN</td>\n",
              "      <td>NaN</td>\n",
              "      <td>647.9</td>\n",
              "      <td>Paladin</td>\n",
              "    </tr>\n",
              "  </tbody>\n",
              "</table>\n",
              "</div>"
            ],
            "text/plain": [
              "                type   dust     wr  ...                  card_29     wins     hero\n",
              "0   Resurrect Priest   9840  0.602  ...                      NaN    662.2   Priest\n",
              "1      Dragon Hunter   5280  0.598  ...                      NaN  25714.0   Hunter\n",
              "2  Highlander Hunter  15600  0.593  ...  Dragonqueen Alexstrasza   1067.4   Hunter\n",
              "3      Dragon Hunter   5340  0.591  ...                      NaN   1773.0   Hunter\n",
              "4       Mech Paladin   6240  0.589  ...                      NaN    647.9  Paladin\n",
              "\n",
              "[5 rows x 37 columns]"
            ]
          },
          "metadata": {
            "tags": []
          },
          "execution_count": 94
        }
      ]
    },
    {
      "cell_type": "code",
      "metadata": {
        "id": "AUmbKMTBoAwH",
        "colab_type": "code",
        "colab": {}
      },
      "source": [
        "#target is win. Would this deck win. \n",
        "# In this case, my wins are in a ratio, or multiple format. I need to create a target column. \n",
        "#if the win ratio is above half, then the probability would be that this deck would win\n",
        "#at some point, I need to know, if you are playing a higher win ratio deck, and come up against another\n",
        "#high ratio deck, who wins? \n",
        "\n",
        "hs['would_win']=hs.wr > .50 "
      ],
      "execution_count": 0,
      "outputs": []
    },
    {
      "cell_type": "code",
      "metadata": {
        "id": "WZkUSZUio3G-",
        "colab_type": "code",
        "colab": {
          "base_uri": "https://localhost:8080/",
          "height": 221
        },
        "outputId": "f73e1c62-a5c7-4b12-ee47-a25305bde43a"
      },
      "source": [
        "hs.would_win"
      ],
      "execution_count": 96,
      "outputs": [
        {
          "output_type": "execute_result",
          "data": {
            "text/plain": [
              "0       True\n",
              "1       True\n",
              "2       True\n",
              "3       True\n",
              "4       True\n",
              "       ...  \n",
              "731    False\n",
              "732    False\n",
              "733    False\n",
              "734    False\n",
              "735    False\n",
              "Name: would_win, Length: 736, dtype: bool"
            ]
          },
          "metadata": {
            "tags": []
          },
          "execution_count": 96
        }
      ]
    },
    {
      "cell_type": "code",
      "metadata": {
        "id": "3BhqCjk1o452",
        "colab_type": "code",
        "colab": {}
      },
      "source": [
        "#would use a classification model for this kind of problem. "
      ],
      "execution_count": 0,
      "outputs": []
    },
    {
      "cell_type": "code",
      "metadata": {
        "id": "abVeH2rVpAKI",
        "colab_type": "code",
        "colab": {
          "base_uri": "https://localhost:8080/",
          "height": 68
        },
        "outputId": "9abb1735-fdb4-4325-beb8-05991fccdfc2"
      },
      "source": [
        "hs.would_win.value_counts()"
      ],
      "execution_count": 98,
      "outputs": [
        {
          "output_type": "execute_result",
          "data": {
            "text/plain": [
              "True     655\n",
              "False     81\n",
              "Name: would_win, dtype: int64"
            ]
          },
          "metadata": {
            "tags": []
          },
          "execution_count": 98
        }
      ]
    },
    {
      "cell_type": "code",
      "metadata": {
        "id": "ENhg-AbBpEE2",
        "colab_type": "code",
        "colab": {
          "base_uri": "https://localhost:8080/",
          "height": 68
        },
        "outputId": "90be4ec7-3065-4546-a35d-3b58d1ca93c7"
      },
      "source": [
        "hs.would_win.value_counts(normalize=True)"
      ],
      "execution_count": 99,
      "outputs": [
        {
          "output_type": "execute_result",
          "data": {
            "text/plain": [
              "True     0.889946\n",
              "False    0.110054\n",
              "Name: would_win, dtype: float64"
            ]
          },
          "metadata": {
            "tags": []
          },
          "execution_count": 99
        }
      ]
    },
    {
      "cell_type": "code",
      "metadata": {
        "id": "ucZJpq8DpHUu",
        "colab_type": "code",
        "colab": {}
      },
      "source": [
        "#target is inbalanced class\n",
        "#Need to decide what other types of measuring to use "
      ],
      "execution_count": 0,
      "outputs": []
    },
    {
      "cell_type": "code",
      "metadata": {
        "id": "8kA9DD4Jp3J9",
        "colab_type": "code",
        "colab": {
          "base_uri": "https://localhost:8080/",
          "height": 297
        },
        "outputId": "7bcbf4de-af98-445a-a7a8-dfabc28d50b1"
      },
      "source": [
        "import seaborn as sns\n",
        "import matplotlib.pyplot as plt\n",
        "%matplotlib inline\n",
        "\n",
        "sns.countplot(hs.would_win)"
      ],
      "execution_count": 101,
      "outputs": [
        {
          "output_type": "execute_result",
          "data": {
            "text/plain": [
              "<matplotlib.axes._subplots.AxesSubplot at 0x7fbce7188b00>"
            ]
          },
          "metadata": {
            "tags": []
          },
          "execution_count": 101
        },
        {
          "output_type": "display_data",
          "data": {
            "image/png": "[encoded data removed]",
            "text/plain": [
              "<Figure size 432x288 with 1 Axes>"
            ]
          },
          "metadata": {
            "tags": []
          }
        }
      ]
    },
    {
      "cell_type": "code",
      "metadata": {
        "id": "Lld2Imx5qP3X",
        "colab_type": "code",
        "colab": {}
      },
      "source": [
        "#do I need a higher win ratio? are there other factors I should take into account when deciding if they would win?"
      ],
      "execution_count": 0,
      "outputs": []
    },
    {
      "cell_type": "code",
      "metadata": {
        "id": "XgWbaPmKqYBM",
        "colab_type": "code",
        "colab": {
          "base_uri": "https://localhost:8080/",
          "height": 680
        },
        "outputId": "11abddf8-412a-4a75-d6c5-074b388bf520"
      },
      "source": [
        "#fill in nan values with missing \n",
        "hs.isna().sum().sort_values(ascending=False)"
      ],
      "execution_count": 103,
      "outputs": [
        {
          "output_type": "execute_result",
          "data": {
            "text/plain": [
              "card_29      560\n",
              "card_28      560\n",
              "card_27      559\n",
              "card_26      559\n",
              "card_25      559\n",
              "card_24      559\n",
              "card_23      558\n",
              "card_22      557\n",
              "card_21      553\n",
              "card_20      544\n",
              "card_19      487\n",
              "card_18      383\n",
              "card_17      253\n",
              "card_16      102\n",
              "card_15       14\n",
              "duration       0\n",
              "card_3         0\n",
              "card_2         0\n",
              "card_1         0\n",
              "card_0         0\n",
              "would_win      0\n",
              "games          0\n",
              "wr             0\n",
              "card_5         0\n",
              "dust           0\n",
              "card_4         0\n",
              "card_13        0\n",
              "card_6         0\n",
              "card_7         0\n",
              "card_8         0\n",
              "card_9         0\n",
              "card_10        0\n",
              "card_11        0\n",
              "card_12        0\n",
              "hero           0\n",
              "card_14        0\n",
              "wins           0\n",
              "type           0\n",
              "dtype: int64"
            ]
          },
          "metadata": {
            "tags": []
          },
          "execution_count": 103
        }
      ]
    },
    {
      "cell_type": "code",
      "metadata": {
        "id": "9M870q_Qtnu3",
        "colab_type": "code",
        "colab": {
          "base_uri": "https://localhost:8080/",
          "height": 136
        },
        "outputId": "82cba27b-1dac-440f-a3d1-254fd748e432"
      },
      "source": [
        "hs.columns"
      ],
      "execution_count": 104,
      "outputs": [
        {
          "output_type": "execute_result",
          "data": {
            "text/plain": [
              "Index(['type', 'dust', 'wr', 'games', 'duration', 'card_0', 'card_1', 'card_2',\n",
              "       'card_3', 'card_4', 'card_5', 'card_6', 'card_7', 'card_8', 'card_9',\n",
              "       'card_10', 'card_11', 'card_12', 'card_13', 'card_14', 'card_15',\n",
              "       'card_16', 'card_17', 'card_18', 'card_19', 'card_20', 'card_21',\n",
              "       'card_22', 'card_23', 'card_24', 'card_25', 'card_26', 'card_27',\n",
              "       'card_28', 'card_29', 'wins', 'hero', 'would_win'],\n",
              "      dtype='object')"
            ]
          },
          "metadata": {
            "tags": []
          },
          "execution_count": 104
        }
      ]
    },
    {
      "cell_type": "code",
      "metadata": {
        "id": "PM63LGkRqhG5",
        "colab_type": "code",
        "colab": {}
      },
      "source": [
        "hs = hs.fillna('Missing')"
      ],
      "execution_count": 0,
      "outputs": []
    },
    {
      "cell_type": "code",
      "metadata": {
        "id": "b0TlRSTIqos7",
        "colab_type": "code",
        "colab": {
          "base_uri": "https://localhost:8080/",
          "height": 51
        },
        "outputId": "a98f5d64-8411-47bf-f25d-4d41051521a8"
      },
      "source": [
        "hs.hero.unique()"
      ],
      "execution_count": 106,
      "outputs": [
        {
          "output_type": "execute_result",
          "data": {
            "text/plain": [
              "array(['Priest', 'Hunter', 'Paladin', 'Druid', 'Warrior', 'Warlock',\n",
              "       'Rogue', 'Mage', 'Shaman'], dtype=object)"
            ]
          },
          "metadata": {
            "tags": []
          },
          "execution_count": 106
        }
      ]
    },
    {
      "cell_type": "code",
      "metadata": {
        "id": "ZsM-QyPeqwF9",
        "colab_type": "code",
        "colab": {
          "base_uri": "https://localhost:8080/",
          "height": 357
        },
        "outputId": "7b76e570-124a-41d9-c47b-7a022bcda9aa"
      },
      "source": [
        "hs.type.unique()"
      ],
      "execution_count": 107,
      "outputs": [
        {
          "output_type": "execute_result",
          "data": {
            "text/plain": [
              "array(['Resurrect Priest', 'Dragon Hunter', 'Highlander Hunter',\n",
              "       'Mech Paladin', 'Quest Resurrect Priest',\n",
              "       'Secret Highlander Hunter', 'Quest Hunter', 'Token Druid',\n",
              "       'Face Hunter', 'Hunter', 'Embiggen Druid', 'Pirate Warrior',\n",
              "       'Galakrond Zoo Warlock', 'Galakrond Rogue', 'Highlander Mage',\n",
              "       'Murloc Shaman', 'Quest Druid', 'Highlander Galakrond Rogue',\n",
              "       'Pure Paladin', 'Combo Priest', 'Galakrond Warrior',\n",
              "       'Galakrond Warlock', 'Murloc Paladin', 'Quest Highlander Hunter',\n",
              "       'Dragon Druid', 'Highlander Warrior', 'Hand Warlock',\n",
              "       'Highlander Dragon Paladin', 'Holy Wrath Paladin',\n",
              "       'Aggro Overload Shaman', 'Control Warrior', 'Zoo Warlock',\n",
              "       'Mech Hunter', 'Tempo Warrior', 'Malygos OTK Rogue',\n",
              "       'Galakrond Shaman', 'Quest Galakrond Rogue', 'Wall Druid',\n",
              "       'Galakrond Quest Shaman', 'Quest Warlock', 'Quest Paladin',\n",
              "       'Spell Paladin', 'Khadgar Mage', 'Galakrond Priest',\n",
              "       'Cyclone Mage', 'Highlander Shaman', 'Rogue', 'Bomb Warrior',\n",
              "       'Highlander Galakrond Priest', 'Quest Rogue', 'Mage',\n",
              "       'Highlander Druid', 'Quest Shaman', 'Malygos Quest Druid',\n",
              "       'Deathrattle Rogue', 'Quest Warrior', 'Nomi Priest', 'Shaman'],\n",
              "      dtype=object)"
            ]
          },
          "metadata": {
            "tags": []
          },
          "execution_count": 107
        }
      ]
    },
    {
      "cell_type": "code",
      "metadata": {
        "id": "VQnug7mUuDAu",
        "colab_type": "code",
        "colab": {}
      },
      "source": [
        "  high_card=['card_0', 'card_1', 'card_2',\n",
        "       'card_3', 'card_4', 'card_5', 'card_6', 'card_7', 'card_8', 'card_9',\n",
        "       'card_10', 'card_11', 'card_12', 'card_13', 'card_14', 'card_15',\n",
        "       'card_16', 'card_17', 'card_18', 'card_19', 'card_20', 'card_21',\n",
        "       'card_22', 'card_23', 'card_24', 'card_25', 'card_26', 'card_27',\n",
        "       'card_28', 'card_29']\n",
        "\n",
        "  hs=hs.drop(columns=high_card)"
      ],
      "execution_count": 0,
      "outputs": []
    },
    {
      "cell_type": "code",
      "metadata": {
        "id": "QCEv7CBIq3ke",
        "colab_type": "code",
        "colab": {}
      },
      "source": [
        "from sklearn.model_selection import train_test_split\n",
        "train=hs.copy()\n",
        "train, test = train_test_split(train, train_size=.80, test_size=.20, \n",
        "                              stratify=train['would_win'], random_state=42)"
      ],
      "execution_count": 0,
      "outputs": []
    },
    {
      "cell_type": "code",
      "metadata": {
        "id": "Ix8MtFvJruXG",
        "colab_type": "code",
        "colab": {}
      },
      "source": [
        "train, val = train_test_split(train, test_size=len(test), \n",
        "                              stratify=train['would_win'], random_state=42)"
      ],
      "execution_count": 0,
      "outputs": []
    },
    {
      "cell_type": "code",
      "metadata": {
        "id": "zTER7PCBsHj2",
        "colab_type": "code",
        "colab": {
          "base_uri": "https://localhost:8080/",
          "height": 34
        },
        "outputId": "ff29bbab-7670-4324-e644-baa8ef1231d0"
      },
      "source": [
        "train.shape, val.shape, test.shape"
      ],
      "execution_count": 111,
      "outputs": [
        {
          "output_type": "execute_result",
          "data": {
            "text/plain": [
              "((440, 8), (148, 8), (148, 8))"
            ]
          },
          "metadata": {
            "tags": []
          },
          "execution_count": 111
        }
      ]
    },
    {
      "cell_type": "code",
      "metadata": {
        "id": "tCoJJ4qYsJTG",
        "colab_type": "code",
        "colab": {}
      },
      "source": [
        "def data_wrangle(X):\n",
        "  #Make a copy to avoid errors\n",
        "  X=X.copy()\n",
        "\n",
        "  #Fill Nan Values with Missing\n",
        "  X = X.fillna('Missing')\n",
        "\n",
        "  #Create the Target Column\n",
        "  X['would_win']=X.wr > 50\n",
        "\n",
        "  #Drop high cardinality columns\n",
        "  high_card=['card_0', 'card_1', 'card_2',\n",
        "       'card_3', 'card_4', 'card_5', 'card_6', 'card_7', 'card_8', 'card_9',\n",
        "       'card_10', 'card_11', 'card_12', 'card_13', 'card_14', 'card_15',\n",
        "       'card_16', 'card_17', 'card_18', 'card_19', 'card_20', 'card_21',\n",
        "       'card_22', 'card_23', 'card_24', 'card_25', 'card_26', 'card_27',\n",
        "       'card_28', 'card_29']\n",
        "\n",
        "  X.drop(columns=high_card)\n",
        "\n",
        "  return X\n",
        "\n",
        "\n"
      ],
      "execution_count": 0,
      "outputs": []
    },
    {
      "cell_type": "code",
      "metadata": {
        "id": "pr49hSsAulyr",
        "colab_type": "code",
        "colab": {
          "base_uri": "https://localhost:8080/",
          "height": 204
        },
        "outputId": "50288b92-fd74-4de7-cbaf-4f9dc90d6ab2"
      },
      "source": [
        "pip install category_encoders"
      ],
      "execution_count": 113,
      "outputs": [
        {
          "output_type": "stream",
          "text": [
            "Requirement already satisfied: category_encoders in /usr/local/lib/python3.6/dist-packages (2.1.0)\n",
            "Requirement already satisfied: numpy>=1.11.3 in /usr/local/lib/python3.6/dist-packages (from category_encoders) (1.18.2)\n",
            "Requirement already satisfied: patsy>=0.4.1 in /usr/local/lib/python3.6/dist-packages (from category_encoders) (0.5.1)\n",
            "Requirement already satisfied: statsmodels>=0.6.1 in /usr/local/lib/python3.6/dist-packages (from category_encoders) (0.11.1)\n",
            "Requirement already satisfied: scipy>=0.19.0 in /usr/local/lib/python3.6/dist-packages (from category_encoders) (1.4.1)\n",
            "Requirement already satisfied: scikit-learn>=0.20.0 in /usr/local/lib/python3.6/dist-packages (from category_encoders) (0.22.2.post1)\n",
            "Requirement already satisfied: pandas>=0.21.1 in /usr/local/lib/python3.6/dist-packages (from category_encoders) (0.25.3)\n",
            "Requirement already satisfied: six in /usr/local/lib/python3.6/dist-packages (from patsy>=0.4.1->category_encoders) (1.12.0)\n",
            "Requirement already satisfied: joblib>=0.11 in /usr/local/lib/python3.6/dist-packages (from scikit-learn>=0.20.0->category_encoders) (0.14.1)\n",
            "Requirement already satisfied: pytz>=2017.2 in /usr/local/lib/python3.6/dist-packages (from pandas>=0.21.1->category_encoders) (2018.9)\n",
            "Requirement already satisfied: python-dateutil>=2.6.1 in /usr/local/lib/python3.6/dist-packages (from pandas>=0.21.1->category_encoders) (2.8.1)\n"
          ],
          "name": "stdout"
        }
      ]
    },
    {
      "cell_type": "code",
      "metadata": {
        "id": "bUe9SOGuuWoh",
        "colab_type": "code",
        "colab": {}
      },
      "source": [
        "import category_encoders as ce\n",
        "from sklearn.pipeline import make_pipeline\n",
        "from sklearn.tree import DecisionTreeClassifier"
      ],
      "execution_count": 0,
      "outputs": []
    },
    {
      "cell_type": "code",
      "metadata": {
        "id": "AEl8FRp50doS",
        "colab_type": "code",
        "colab": {}
      },
      "source": [
        ""
      ],
      "execution_count": 0,
      "outputs": []
    },
    {
      "cell_type": "code",
      "metadata": {
        "id": "1gBChEH1sfVO",
        "colab_type": "code",
        "colab": {
          "base_uri": "https://localhost:8080/",
          "height": 51
        },
        "outputId": "4999b1ef-a262-4a7f-854e-466d568e23db"
      },
      "source": [
        "target='would_win'\n",
        "features= train.drop(columns=[target, 'wr']).columns\n",
        "# print(features)\n",
        "x_train=train[features]\n",
        "y_train=train[target]\n",
        "# y_train\n",
        "x_val=val[features]\n",
        "y_val=val[target]\n",
        "#x_test\n",
        "x_test=test[features]\n",
        "y_test=test[target]\n",
        "\n",
        "pipeline=make_pipeline(\n",
        "    ce.OrdinalEncoder(),\n",
        "    DecisionTreeClassifier(max_depth=3)\n",
        ")\n",
        "pipeline.fit(x_train,y_train)\n",
        "y_pred=pipeline.predict(x_test)\n",
        "print('Train Accuracy:', pipeline.score(x_train,y_train))\n",
        "print('Accuracy Score:', pipeline.score(x_val,y_val))"
      ],
      "execution_count": 115,
      "outputs": [
        {
          "output_type": "stream",
          "text": [
            "Train Accuracy: 0.9136363636363637\n",
            "Accuracy Score: 0.8851351351351351\n"
          ],
          "name": "stdout"
        }
      ]
    },
    {
      "cell_type": "code",
      "metadata": {
        "id": "bP-RNYF9u88Q",
        "colab_type": "code",
        "colab": {
          "base_uri": "https://localhost:8080/",
          "height": 34
        },
        "outputId": "ff79fefa-0574-406f-924e-8059d941bb65"
      },
      "source": [
        "from sklearn.metrics import roc_auc_score\n",
        "y_pred_proba = pipeline.predict_proba(x_val)[:, -1]\n",
        "roc_auc_score(y_val, y_pred_proba)"
      ],
      "execution_count": 116,
      "outputs": [
        {
          "output_type": "execute_result",
          "data": {
            "text/plain": [
              "0.7961647727272727"
            ]
          },
          "metadata": {
            "tags": []
          },
          "execution_count": 116
        }
      ]
    },
    {
      "cell_type": "code",
      "metadata": {
        "id": "UGbxhk37vED4",
        "colab_type": "code",
        "colab": {
          "base_uri": "https://localhost:8080/",
          "height": 102
        },
        "outputId": "6a582db6-f284-48ff-ccd0-3822a24bb8e8"
      },
      "source": [
        "from sklearn.metrics import roc_curve\n",
        "fpr, tpr, thresholds = roc_curve(y_val, y_pred_proba)\n",
        "(fpr, tpr, thresholds)"
      ],
      "execution_count": 117,
      "outputs": [
        {
          "output_type": "execute_result",
          "data": {
            "text/plain": [
              "(array([0.    , 0.3125, 0.4375, 0.8125, 0.9375, 1.    ]),\n",
              " array([0.        , 0.88636364, 0.92424242, 0.98484848, 1.        ,\n",
              "        1.        ]),\n",
              " array([1.94960212, 0.94960212, 0.88888889, 0.48148148, 0.4       ,\n",
              "        0.        ]))"
            ]
          },
          "metadata": {
            "tags": []
          },
          "execution_count": 117
        }
      ]
    },
    {
      "cell_type": "code",
      "metadata": {
        "id": "APgU9ioMvGz3",
        "colab_type": "code",
        "colab": {
          "base_uri": "https://localhost:8080/",
          "height": 312
        },
        "outputId": "94b7e9da-7c7b-4a34-c3bb-c1ef8a239d5a"
      },
      "source": [
        "import matplotlib.pyplot as plt\n",
        "plt.scatter(fpr, tpr)\n",
        "plt.plot(fpr, tpr)\n",
        "plt.title('ROC curve')\n",
        "plt.xlabel('False Positive Rate')\n",
        "plt.ylabel('True Positive Rate')"
      ],
      "execution_count": 118,
      "outputs": [
        {
          "output_type": "execute_result",
          "data": {
            "text/plain": [
              "Text(0, 0.5, 'True Positive Rate')"
            ]
          },
          "metadata": {
            "tags": []
          },
          "execution_count": 118
        },
        {
          "output_type": "display_data",
          "data": {
            "image/png": "[encoded data removed]",
            "text/plain": [
              "<Figure size 432x288 with 1 Axes>"
            ]
          },
          "metadata": {
            "tags": []
          }
        }
      ]
    },
    {
      "cell_type": "code",
      "metadata": {
        "id": "oTdWTA66vJ-y",
        "colab_type": "code",
        "colab": {
          "base_uri": "https://localhost:8080/",
          "height": 34
        },
        "outputId": "1da9da10-ebb0-4045-d02c-6f0133b798fd"
      },
      "source": [
        "#roc is only 60, not a good model. \n",
        "roc_auc_score(y_test, y_pred)"
      ],
      "execution_count": 119,
      "outputs": [
        {
          "output_type": "execute_result",
          "data": {
            "text/plain": [
              "0.6647727272727273"
            ]
          },
          "metadata": {
            "tags": []
          },
          "execution_count": 119
        }
      ]
    },
    {
      "cell_type": "code",
      "metadata": {
        "id": "RGng9lAGvT5x",
        "colab_type": "code",
        "colab": {
          "base_uri": "https://localhost:8080/",
          "height": 51
        },
        "outputId": "9c9a6951-e7ca-4c21-a87d-a11c4b6ae9a0"
      },
      "source": [
        "from sklearn.ensemble import RandomForestClassifier\n",
        "from sklearn.impute import SimpleImputer\n",
        "from sklearn.preprocessing import StandardScaler\n",
        "\n",
        "pipeline=make_pipeline(\n",
        "    ce.OrdinalEncoder(),\n",
        "    SimpleImputer(),\n",
        "    StandardScaler(),\n",
        "    RandomForestClassifier(random_state=0, n_jobs=-1)\n",
        ")\n",
        "pipeline.fit(x_train,y_train)\n",
        "y_pred=pipeline.predict(x_test)\n",
        "print('Train Accuracy:', pipeline.score(x_train,y_train))\n",
        "print('Accuracy Score:', pipeline.score(x_val,y_val))"
      ],
      "execution_count": 120,
      "outputs": [
        {
          "output_type": "stream",
          "text": [
            "Train Accuracy: 1.0\n",
            "Accuracy Score: 0.9121621621621622\n"
          ],
          "name": "stdout"
        }
      ]
    },
    {
      "cell_type": "code",
      "metadata": {
        "id": "MztO-OqlwnYr",
        "colab_type": "code",
        "colab": {
          "base_uri": "https://localhost:8080/",
          "height": 34
        },
        "outputId": "d5eca426-fc3b-4d0a-8d57-4e56fb5ee8c3"
      },
      "source": [
        "#roc went up a tad bit \n",
        "roc_auc_score(y_test, y_pred)"
      ],
      "execution_count": 121,
      "outputs": [
        {
          "output_type": "execute_result",
          "data": {
            "text/plain": [
              "0.6761363636363636"
            ]
          },
          "metadata": {
            "tags": []
          },
          "execution_count": 121
        }
      ]
    },
    {
      "cell_type": "code",
      "metadata": {
        "id": "lVuOe9DFzf5X",
        "colab_type": "code",
        "colab": {
          "base_uri": "https://localhost:8080/",
          "height": 68
        },
        "outputId": "e5e581a8-913c-4e64-c80b-f8e01a97383a"
      },
      "source": [
        "fpr, tpr, thresholds = roc_curve(y_test, y_pred)\n",
        "(fpr, tpr, thresholds)"
      ],
      "execution_count": 122,
      "outputs": [
        {
          "output_type": "execute_result",
          "data": {
            "text/plain": [
              "(array([0.   , 0.625, 1.   ]),\n",
              " array([0.        , 0.97727273, 1.        ]),\n",
              " array([2, 1, 0]))"
            ]
          },
          "metadata": {
            "tags": []
          },
          "execution_count": 122
        }
      ]
    },
    {
      "cell_type": "code",
      "metadata": {
        "id": "XpQb2JNwwtsG",
        "colab_type": "code",
        "colab": {
          "base_uri": "https://localhost:8080/",
          "height": 312
        },
        "outputId": "9ded5f78-dc6e-4850-e4c4-c8c2f3cb4ef7"
      },
      "source": [
        "plt.scatter(fpr, tpr)\n",
        "plt.plot(fpr, tpr)\n",
        "plt.title('ROC curve')\n",
        "plt.xlabel('False Positive Rate')\n",
        "plt.ylabel('True Positive Rate')"
      ],
      "execution_count": 123,
      "outputs": [
        {
          "output_type": "execute_result",
          "data": {
            "text/plain": [
              "Text(0, 0.5, 'True Positive Rate')"
            ]
          },
          "metadata": {
            "tags": []
          },
          "execution_count": 123
        },
        {
          "output_type": "display_data",
          "data": {
            "image/png": "[encoded data removed]",
            "text/plain": [
              "<Figure size 432x288 with 1 Axes>"
            ]
          },
          "metadata": {
            "tags": []
          }
        }
      ]
    },
    {
      "cell_type": "code",
      "metadata": {
        "id": "IhdtGzZFzbHQ",
        "colab_type": "code",
        "colab": {
          "base_uri": "https://localhost:8080/",
          "height": 624
        },
        "outputId": "57c15a1e-3eee-4add-f872-0a82c3e7d877"
      },
      "source": [
        "#notes for self (not a good model. But, may not have enough information to create a good model)\n",
        "# Get encoded values\n",
        "encoder = pipeline.named_steps['ordinalencoder']\n",
        "encoded = encoder.transform(x_train)\n",
        "print ('Print X_train shape after encoding', encoded.shape)\n",
        "\n",
        "# Get feature importances\n",
        "rf = pipeline.named_steps['randomforestclassifier']\n",
        "importances = pd.Series(rf.feature_importances_, encoded.columns)\n",
        "\n",
        "n = 20\n",
        "plt.figure(figsize=(10, n/2))\n",
        "plt.title(f'Top {n} features')\n",
        "importances.sort_values()[-n:].plot.barh();"
      ],
      "execution_count": 124,
      "outputs": [
        {
          "output_type": "stream",
          "text": [
            "Print X_train shape after encoding (440, 6)\n"
          ],
          "name": "stdout"
        },
        {
          "output_type": "display_data",
          "data": {
            "image/png": "[encoded data removed]",
            "text/plain": [
              "<Figure size 720x720 with 1 Axes>"
            ]
          },
          "metadata": {
            "tags": []
          }
        }
      ]
    },
    {
      "cell_type": "code",
      "metadata": {
        "id": "bppIliWD0R6t",
        "colab_type": "code",
        "colab": {}
      },
      "source": [
        "#possibly look for a better, or more expansive data set. Or a data set we could combine, to get more information."
      ],
      "execution_count": 0,
      "outputs": []
    }
  ]
}