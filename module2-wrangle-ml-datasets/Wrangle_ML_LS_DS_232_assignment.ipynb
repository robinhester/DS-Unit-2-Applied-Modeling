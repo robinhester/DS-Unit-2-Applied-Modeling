{
  "nbformat": 4,
  "nbformat_minor": 0,
  "metadata": {
    "jupytext": {
      "cell_metadata_filter": "-all",
      "main_language": "python",
      "notebook_metadata_filter": "-all"
    },
    "kernelspec": {
      "display_name": "Python 3",
      "language": "python",
      "name": "python3"
    },
    "language_info": {
      "codemirror_mode": {
        "name": "ipython",
        "version": 3
      },
      "file_extension": ".py",
      "mimetype": "text/x-python",
      "name": "python",
      "nbconvert_exporter": "python",
      "pygments_lexer": "ipython3",
      "version": "3.7.3"
    },
    "colab": {
      "name": "Wrangle_ML_LS_DS_232_assignment.ipynb",
      "provenance": [],
      "collapsed_sections": [],
      "include_colab_link": true
    }
  },
  "cells": [
    {
      "cell_type": "markdown",
      "metadata": {
        "id": "view-in-github",
        "colab_type": "text"
      },
      "source": [
        "<a href=\"https://colab.research.google.com/github/robinhester/DS-Unit-2-Applied-Modeling/blob/master/module2-wrangle-ml-datasets/Wrangle_ML_LS_DS_232_assignment.ipynb\" target=\"_parent\"><img src=\"https://colab.research.google.com/assets/colab-badge.svg\" alt=\"Open In Colab\"/></a>"
      ]
    },
    {
      "cell_type": "markdown",
      "metadata": {
        "id": "YBzPquTq0av6",
        "colab_type": "text"
      },
      "source": [
        "Lambda School Data Science\n",
        "\n",
        "*Unit 2, Sprint 3, Module 1*\n",
        "\n",
        "---\n",
        "\n",
        "\n",
        "# Wrangle ML datasets\n",
        "\n",
        "- [ ] Continue to clean and explore your data. \n",
        "- [ ] For the evaluation metric you chose, what score would you get just by guessing?\n",
        "- [ ] Can you make a fast, first model that beats guessing?\n",
        "\n",
        "**We recommend that you use your portfolio project dataset for all assignments this sprint.**\n",
        "\n",
        "**But if you aren't ready yet, or you want more practice, then use the New York City property sales dataset for today's assignment.** Follow the instructions below, to just keep a subset for the Tribeca neighborhood, and remove outliers or dirty data. [Here's a video walkthrough](https://youtu.be/pPWFw8UtBVg?t=584) you can refer to if you get stuck or want hints!\n",
        "\n",
        "- Data Source: [NYC OpenData: NYC Citywide Rolling Calendar Sales](https://data.cityofnewyork.us/dataset/NYC-Citywide-Rolling-Calendar-Sales/usep-8jbt)\n",
        "- Glossary: [NYC Department of Finance: Rolling Sales Data](https://www1.nyc.gov/site/finance/taxes/property-rolling-sales-data.page)"
      ]
    },
    {
      "cell_type": "code",
      "metadata": {
        "id": "45212rUB1bRP",
        "colab_type": "code",
        "colab": {}
      },
      "source": [
        "import pandas as pd "
      ],
      "execution_count": 0,
      "outputs": []
    },
    {
      "cell_type": "code",
      "metadata": {
        "id": "MOSK9HDA1c3U",
        "colab_type": "code",
        "colab": {}
      },
      "source": [
        "got=pd.read_csv('https://raw.githubusercontent.com/robinhester/DS-Unit-2-Applied-Modeling/master/data/gameofthrones.csv')"
      ],
      "execution_count": 0,
      "outputs": []
    },
    {
      "cell_type": "code",
      "metadata": {
        "id": "Isgd48T09Ill",
        "colab_type": "code",
        "colab": {
          "base_uri": "https://localhost:8080/",
          "height": 326
        },
        "outputId": "7ec44148-73a7-4ce4-f7c4-a633d9fe3851"
      },
      "source": [
        "got.head()"
      ],
      "execution_count": 4,
      "outputs": [
        {
          "output_type": "execute_result",
          "data": {
            "text/html": [
              "<div>\n",
              "<style scoped>\n",
              "    .dataframe tbody tr th:only-of-type {\n",
              "        vertical-align: middle;\n",
              "    }\n",
              "\n",
              "    .dataframe tbody tr th {\n",
              "        vertical-align: top;\n",
              "    }\n",
              "\n",
              "    .dataframe thead th {\n",
              "        text-align: right;\n",
              "    }\n",
              "</style>\n",
              "<table border=\"1\" class=\"dataframe\">\n",
              "  <thead>\n",
              "    <tr style=\"text-align: right;\">\n",
              "      <th></th>\n",
              "      <th>Unnamed: 0</th>\n",
              "      <th>S.No</th>\n",
              "      <th>actual</th>\n",
              "      <th>pred</th>\n",
              "      <th>alive</th>\n",
              "      <th>plod</th>\n",
              "      <th>name</th>\n",
              "      <th>title</th>\n",
              "      <th>male</th>\n",
              "      <th>culture</th>\n",
              "      <th>dateOfBirth</th>\n",
              "      <th>DateoFdeath</th>\n",
              "      <th>mother</th>\n",
              "      <th>father</th>\n",
              "      <th>heir</th>\n",
              "      <th>house</th>\n",
              "      <th>spouse</th>\n",
              "      <th>book1</th>\n",
              "      <th>book2</th>\n",
              "      <th>book3</th>\n",
              "      <th>book4</th>\n",
              "      <th>book5</th>\n",
              "      <th>isAliveMother</th>\n",
              "      <th>isAliveFather</th>\n",
              "      <th>isAliveHeir</th>\n",
              "      <th>isAliveSpouse</th>\n",
              "      <th>isMarried</th>\n",
              "      <th>isNoble</th>\n",
              "      <th>age</th>\n",
              "      <th>numDeadRelations</th>\n",
              "      <th>boolDeadRelations</th>\n",
              "      <th>isPopular</th>\n",
              "      <th>popularity</th>\n",
              "      <th>isAlive</th>\n",
              "    </tr>\n",
              "  </thead>\n",
              "  <tbody>\n",
              "    <tr>\n",
              "      <th>0</th>\n",
              "      <td>0</td>\n",
              "      <td>1</td>\n",
              "      <td>0</td>\n",
              "      <td>0</td>\n",
              "      <td>0.054</td>\n",
              "      <td>0.946</td>\n",
              "      <td>Viserys II Targaryen</td>\n",
              "      <td>NaN</td>\n",
              "      <td>1</td>\n",
              "      <td>NaN</td>\n",
              "      <td>NaN</td>\n",
              "      <td>NaN</td>\n",
              "      <td>Rhaenyra Targaryen</td>\n",
              "      <td>Daemon Targaryen</td>\n",
              "      <td>Aegon IV Targaryen</td>\n",
              "      <td>NaN</td>\n",
              "      <td>NaN</td>\n",
              "      <td>0</td>\n",
              "      <td>0</td>\n",
              "      <td>0</td>\n",
              "      <td>0</td>\n",
              "      <td>0</td>\n",
              "      <td>1.0</td>\n",
              "      <td>0.0</td>\n",
              "      <td>0.0</td>\n",
              "      <td>NaN</td>\n",
              "      <td>0</td>\n",
              "      <td>0</td>\n",
              "      <td>NaN</td>\n",
              "      <td>11</td>\n",
              "      <td>1</td>\n",
              "      <td>1</td>\n",
              "      <td>0.605351</td>\n",
              "      <td>0</td>\n",
              "    </tr>\n",
              "    <tr>\n",
              "      <th>1</th>\n",
              "      <td>1</td>\n",
              "      <td>2</td>\n",
              "      <td>1</td>\n",
              "      <td>0</td>\n",
              "      <td>0.387</td>\n",
              "      <td>0.613</td>\n",
              "      <td>Walder Frey</td>\n",
              "      <td>Lord of the Crossing</td>\n",
              "      <td>1</td>\n",
              "      <td>Rivermen</td>\n",
              "      <td>208.0</td>\n",
              "      <td>NaN</td>\n",
              "      <td>NaN</td>\n",
              "      <td>NaN</td>\n",
              "      <td>NaN</td>\n",
              "      <td>House Frey</td>\n",
              "      <td>Perra Royce</td>\n",
              "      <td>1</td>\n",
              "      <td>1</td>\n",
              "      <td>1</td>\n",
              "      <td>1</td>\n",
              "      <td>1</td>\n",
              "      <td>NaN</td>\n",
              "      <td>NaN</td>\n",
              "      <td>NaN</td>\n",
              "      <td>1.0</td>\n",
              "      <td>1</td>\n",
              "      <td>1</td>\n",
              "      <td>97.0</td>\n",
              "      <td>1</td>\n",
              "      <td>1</td>\n",
              "      <td>1</td>\n",
              "      <td>0.896321</td>\n",
              "      <td>1</td>\n",
              "    </tr>\n",
              "    <tr>\n",
              "      <th>2</th>\n",
              "      <td>2</td>\n",
              "      <td>3</td>\n",
              "      <td>1</td>\n",
              "      <td>0</td>\n",
              "      <td>0.493</td>\n",
              "      <td>0.507</td>\n",
              "      <td>Addison Hill</td>\n",
              "      <td>Ser</td>\n",
              "      <td>1</td>\n",
              "      <td>NaN</td>\n",
              "      <td>NaN</td>\n",
              "      <td>NaN</td>\n",
              "      <td>NaN</td>\n",
              "      <td>NaN</td>\n",
              "      <td>NaN</td>\n",
              "      <td>House Swyft</td>\n",
              "      <td>NaN</td>\n",
              "      <td>0</td>\n",
              "      <td>0</td>\n",
              "      <td>0</td>\n",
              "      <td>1</td>\n",
              "      <td>0</td>\n",
              "      <td>NaN</td>\n",
              "      <td>NaN</td>\n",
              "      <td>NaN</td>\n",
              "      <td>NaN</td>\n",
              "      <td>0</td>\n",
              "      <td>1</td>\n",
              "      <td>NaN</td>\n",
              "      <td>0</td>\n",
              "      <td>0</td>\n",
              "      <td>0</td>\n",
              "      <td>0.267559</td>\n",
              "      <td>1</td>\n",
              "    </tr>\n",
              "    <tr>\n",
              "      <th>3</th>\n",
              "      <td>3</td>\n",
              "      <td>4</td>\n",
              "      <td>0</td>\n",
              "      <td>0</td>\n",
              "      <td>0.076</td>\n",
              "      <td>0.924</td>\n",
              "      <td>Aemma Arryn</td>\n",
              "      <td>Queen</td>\n",
              "      <td>0</td>\n",
              "      <td>NaN</td>\n",
              "      <td>82.0</td>\n",
              "      <td>105.0</td>\n",
              "      <td>NaN</td>\n",
              "      <td>NaN</td>\n",
              "      <td>NaN</td>\n",
              "      <td>House Arryn</td>\n",
              "      <td>Viserys I Targaryen</td>\n",
              "      <td>0</td>\n",
              "      <td>0</td>\n",
              "      <td>0</td>\n",
              "      <td>0</td>\n",
              "      <td>0</td>\n",
              "      <td>NaN</td>\n",
              "      <td>NaN</td>\n",
              "      <td>NaN</td>\n",
              "      <td>0.0</td>\n",
              "      <td>1</td>\n",
              "      <td>1</td>\n",
              "      <td>23.0</td>\n",
              "      <td>0</td>\n",
              "      <td>0</td>\n",
              "      <td>0</td>\n",
              "      <td>0.183946</td>\n",
              "      <td>0</td>\n",
              "    </tr>\n",
              "    <tr>\n",
              "      <th>4</th>\n",
              "      <td>4</td>\n",
              "      <td>5</td>\n",
              "      <td>1</td>\n",
              "      <td>1</td>\n",
              "      <td>0.617</td>\n",
              "      <td>0.383</td>\n",
              "      <td>Sylva Santagar</td>\n",
              "      <td>Greenstone</td>\n",
              "      <td>0</td>\n",
              "      <td>Dornish</td>\n",
              "      <td>276.0</td>\n",
              "      <td>NaN</td>\n",
              "      <td>NaN</td>\n",
              "      <td>NaN</td>\n",
              "      <td>NaN</td>\n",
              "      <td>House Santagar</td>\n",
              "      <td>Eldon Estermont</td>\n",
              "      <td>0</td>\n",
              "      <td>0</td>\n",
              "      <td>0</td>\n",
              "      <td>1</td>\n",
              "      <td>0</td>\n",
              "      <td>NaN</td>\n",
              "      <td>NaN</td>\n",
              "      <td>NaN</td>\n",
              "      <td>1.0</td>\n",
              "      <td>1</td>\n",
              "      <td>1</td>\n",
              "      <td>29.0</td>\n",
              "      <td>0</td>\n",
              "      <td>0</td>\n",
              "      <td>0</td>\n",
              "      <td>0.043478</td>\n",
              "      <td>1</td>\n",
              "    </tr>\n",
              "  </tbody>\n",
              "</table>\n",
              "</div>"
            ],
            "text/plain": [
              "   Unnamed: 0  S.No  actual  ...  isPopular  popularity  isAlive\n",
              "0           0     1       0  ...          1    0.605351        0\n",
              "1           1     2       1  ...          1    0.896321        1\n",
              "2           2     3       1  ...          0    0.267559        1\n",
              "3           3     4       0  ...          0    0.183946        0\n",
              "4           4     5       1  ...          0    0.043478        1\n",
              "\n",
              "[5 rows x 34 columns]"
            ]
          },
          "metadata": {
            "tags": []
          },
          "execution_count": 4
        }
      ]
    },
    {
      "cell_type": "code",
      "metadata": {
        "id": "Nm80pveE9cLs",
        "colab_type": "code",
        "colab": {
          "base_uri": "https://localhost:8080/",
          "height": 343
        },
        "outputId": "61aee5c9-ba9f-4a89-868c-2cbde34953ad"
      },
      "source": [
        "got.tail()"
      ],
      "execution_count": 5,
      "outputs": [
        {
          "output_type": "execute_result",
          "data": {
            "text/html": [
              "<div>\n",
              "<style scoped>\n",
              "    .dataframe tbody tr th:only-of-type {\n",
              "        vertical-align: middle;\n",
              "    }\n",
              "\n",
              "    .dataframe tbody tr th {\n",
              "        vertical-align: top;\n",
              "    }\n",
              "\n",
              "    .dataframe thead th {\n",
              "        text-align: right;\n",
              "    }\n",
              "</style>\n",
              "<table border=\"1\" class=\"dataframe\">\n",
              "  <thead>\n",
              "    <tr style=\"text-align: right;\">\n",
              "      <th></th>\n",
              "      <th>Unnamed: 0</th>\n",
              "      <th>S.No</th>\n",
              "      <th>actual</th>\n",
              "      <th>pred</th>\n",
              "      <th>alive</th>\n",
              "      <th>plod</th>\n",
              "      <th>name</th>\n",
              "      <th>title</th>\n",
              "      <th>male</th>\n",
              "      <th>culture</th>\n",
              "      <th>dateOfBirth</th>\n",
              "      <th>DateoFdeath</th>\n",
              "      <th>mother</th>\n",
              "      <th>father</th>\n",
              "      <th>heir</th>\n",
              "      <th>house</th>\n",
              "      <th>spouse</th>\n",
              "      <th>book1</th>\n",
              "      <th>book2</th>\n",
              "      <th>book3</th>\n",
              "      <th>book4</th>\n",
              "      <th>book5</th>\n",
              "      <th>isAliveMother</th>\n",
              "      <th>isAliveFather</th>\n",
              "      <th>isAliveHeir</th>\n",
              "      <th>isAliveSpouse</th>\n",
              "      <th>isMarried</th>\n",
              "      <th>isNoble</th>\n",
              "      <th>age</th>\n",
              "      <th>numDeadRelations</th>\n",
              "      <th>boolDeadRelations</th>\n",
              "      <th>isPopular</th>\n",
              "      <th>popularity</th>\n",
              "      <th>isAlive</th>\n",
              "    </tr>\n",
              "  </thead>\n",
              "  <tbody>\n",
              "    <tr>\n",
              "      <th>1941</th>\n",
              "      <td>1941</td>\n",
              "      <td>1942</td>\n",
              "      <td>0</td>\n",
              "      <td>1</td>\n",
              "      <td>0.803</td>\n",
              "      <td>0.197</td>\n",
              "      <td>Luwin</td>\n",
              "      <td>NaN</td>\n",
              "      <td>1</td>\n",
              "      <td>Westeros</td>\n",
              "      <td>NaN</td>\n",
              "      <td>299.0</td>\n",
              "      <td>NaN</td>\n",
              "      <td>NaN</td>\n",
              "      <td>NaN</td>\n",
              "      <td>House Stark</td>\n",
              "      <td>NaN</td>\n",
              "      <td>1</td>\n",
              "      <td>1</td>\n",
              "      <td>1</td>\n",
              "      <td>1</td>\n",
              "      <td>1</td>\n",
              "      <td>NaN</td>\n",
              "      <td>NaN</td>\n",
              "      <td>NaN</td>\n",
              "      <td>NaN</td>\n",
              "      <td>0</td>\n",
              "      <td>0</td>\n",
              "      <td>NaN</td>\n",
              "      <td>0</td>\n",
              "      <td>0</td>\n",
              "      <td>1</td>\n",
              "      <td>0.351171</td>\n",
              "      <td>0</td>\n",
              "    </tr>\n",
              "    <tr>\n",
              "      <th>1942</th>\n",
              "      <td>1942</td>\n",
              "      <td>1943</td>\n",
              "      <td>0</td>\n",
              "      <td>1</td>\n",
              "      <td>0.987</td>\n",
              "      <td>0.013</td>\n",
              "      <td>Reek</td>\n",
              "      <td>NaN</td>\n",
              "      <td>1</td>\n",
              "      <td>NaN</td>\n",
              "      <td>NaN</td>\n",
              "      <td>299.0</td>\n",
              "      <td>NaN</td>\n",
              "      <td>NaN</td>\n",
              "      <td>NaN</td>\n",
              "      <td>House Bolton</td>\n",
              "      <td>NaN</td>\n",
              "      <td>0</td>\n",
              "      <td>1</td>\n",
              "      <td>0</td>\n",
              "      <td>1</td>\n",
              "      <td>1</td>\n",
              "      <td>NaN</td>\n",
              "      <td>NaN</td>\n",
              "      <td>NaN</td>\n",
              "      <td>NaN</td>\n",
              "      <td>0</td>\n",
              "      <td>0</td>\n",
              "      <td>NaN</td>\n",
              "      <td>0</td>\n",
              "      <td>0</td>\n",
              "      <td>0</td>\n",
              "      <td>0.096990</td>\n",
              "      <td>0</td>\n",
              "    </tr>\n",
              "    <tr>\n",
              "      <th>1943</th>\n",
              "      <td>1943</td>\n",
              "      <td>1944</td>\n",
              "      <td>1</td>\n",
              "      <td>1</td>\n",
              "      <td>0.520</td>\n",
              "      <td>0.480</td>\n",
              "      <td>Symeon Star-Eyes</td>\n",
              "      <td>NaN</td>\n",
              "      <td>1</td>\n",
              "      <td>NaN</td>\n",
              "      <td>NaN</td>\n",
              "      <td>NaN</td>\n",
              "      <td>NaN</td>\n",
              "      <td>NaN</td>\n",
              "      <td>NaN</td>\n",
              "      <td>NaN</td>\n",
              "      <td>NaN</td>\n",
              "      <td>1</td>\n",
              "      <td>1</td>\n",
              "      <td>1</td>\n",
              "      <td>1</td>\n",
              "      <td>1</td>\n",
              "      <td>NaN</td>\n",
              "      <td>NaN</td>\n",
              "      <td>NaN</td>\n",
              "      <td>NaN</td>\n",
              "      <td>0</td>\n",
              "      <td>0</td>\n",
              "      <td>NaN</td>\n",
              "      <td>0</td>\n",
              "      <td>0</td>\n",
              "      <td>0</td>\n",
              "      <td>0.030100</td>\n",
              "      <td>1</td>\n",
              "    </tr>\n",
              "    <tr>\n",
              "      <th>1944</th>\n",
              "      <td>1944</td>\n",
              "      <td>1945</td>\n",
              "      <td>1</td>\n",
              "      <td>1</td>\n",
              "      <td>0.637</td>\n",
              "      <td>0.363</td>\n",
              "      <td>Coldhands</td>\n",
              "      <td>NaN</td>\n",
              "      <td>1</td>\n",
              "      <td>NaN</td>\n",
              "      <td>NaN</td>\n",
              "      <td>NaN</td>\n",
              "      <td>NaN</td>\n",
              "      <td>NaN</td>\n",
              "      <td>NaN</td>\n",
              "      <td>Three-eyed crow</td>\n",
              "      <td>NaN</td>\n",
              "      <td>0</td>\n",
              "      <td>0</td>\n",
              "      <td>1</td>\n",
              "      <td>1</td>\n",
              "      <td>1</td>\n",
              "      <td>NaN</td>\n",
              "      <td>NaN</td>\n",
              "      <td>NaN</td>\n",
              "      <td>NaN</td>\n",
              "      <td>0</td>\n",
              "      <td>0</td>\n",
              "      <td>NaN</td>\n",
              "      <td>0</td>\n",
              "      <td>0</td>\n",
              "      <td>0</td>\n",
              "      <td>0.130435</td>\n",
              "      <td>1</td>\n",
              "    </tr>\n",
              "    <tr>\n",
              "      <th>1945</th>\n",
              "      <td>1945</td>\n",
              "      <td>1946</td>\n",
              "      <td>0</td>\n",
              "      <td>0</td>\n",
              "      <td>0.093</td>\n",
              "      <td>0.907</td>\n",
              "      <td>Tytos Lannister</td>\n",
              "      <td>Casterly Rock</td>\n",
              "      <td>1</td>\n",
              "      <td>NaN</td>\n",
              "      <td>220.0</td>\n",
              "      <td>267.0</td>\n",
              "      <td>NaN</td>\n",
              "      <td>NaN</td>\n",
              "      <td>NaN</td>\n",
              "      <td>House Lannister</td>\n",
              "      <td>Jeyne Marbrand</td>\n",
              "      <td>0</td>\n",
              "      <td>0</td>\n",
              "      <td>1</td>\n",
              "      <td>1</td>\n",
              "      <td>1</td>\n",
              "      <td>NaN</td>\n",
              "      <td>NaN</td>\n",
              "      <td>NaN</td>\n",
              "      <td>1.0</td>\n",
              "      <td>1</td>\n",
              "      <td>1</td>\n",
              "      <td>47.0</td>\n",
              "      <td>4</td>\n",
              "      <td>1</td>\n",
              "      <td>0</td>\n",
              "      <td>0.210702</td>\n",
              "      <td>0</td>\n",
              "    </tr>\n",
              "  </tbody>\n",
              "</table>\n",
              "</div>"
            ],
            "text/plain": [
              "      Unnamed: 0  S.No  actual  ...  isPopular  popularity  isAlive\n",
              "1941        1941  1942       0  ...          1    0.351171        0\n",
              "1942        1942  1943       0  ...          0    0.096990        0\n",
              "1943        1943  1944       1  ...          0    0.030100        1\n",
              "1944        1944  1945       1  ...          0    0.130435        1\n",
              "1945        1945  1946       0  ...          0    0.210702        0\n",
              "\n",
              "[5 rows x 34 columns]"
            ]
          },
          "metadata": {
            "tags": []
          },
          "execution_count": 5
        }
      ]
    },
    {
      "cell_type": "code",
      "metadata": {
        "id": "mGr3CRQ-92XE",
        "colab_type": "code",
        "colab": {
          "base_uri": "https://localhost:8080/",
          "height": 136
        },
        "outputId": "87032e2f-d293-4fe8-f50a-00ab945d019d"
      },
      "source": [
        "got.columns"
      ],
      "execution_count": 6,
      "outputs": [
        {
          "output_type": "execute_result",
          "data": {
            "text/plain": [
              "Index(['Unnamed: 0', 'S.No', 'actual', 'pred', 'alive', 'plod', 'name',\n",
              "       'title', 'male', 'culture', 'dateOfBirth', 'DateoFdeath', 'mother',\n",
              "       'father', 'heir', 'house', 'spouse', 'book1', 'book2', 'book3', 'book4',\n",
              "       'book5', 'isAliveMother', 'isAliveFather', 'isAliveHeir',\n",
              "       'isAliveSpouse', 'isMarried', 'isNoble', 'age', 'numDeadRelations',\n",
              "       'boolDeadRelations', 'isPopular', 'popularity', 'isAlive'],\n",
              "      dtype='object')"
            ]
          },
          "metadata": {
            "tags": []
          },
          "execution_count": 6
        }
      ]
    },
    {
      "cell_type": "code",
      "metadata": {
        "id": "LkiSTxJk-4I-",
        "colab_type": "code",
        "colab": {
          "base_uri": "https://localhost:8080/",
          "height": 427
        },
        "outputId": "3be71d14-7267-4385-eaea-b32e39b8ff23"
      },
      "source": [
        "got.describe(include='all')"
      ],
      "execution_count": 7,
      "outputs": [
        {
          "output_type": "execute_result",
          "data": {
            "text/html": [
              "<div>\n",
              "<style scoped>\n",
              "    .dataframe tbody tr th:only-of-type {\n",
              "        vertical-align: middle;\n",
              "    }\n",
              "\n",
              "    .dataframe tbody tr th {\n",
              "        vertical-align: top;\n",
              "    }\n",
              "\n",
              "    .dataframe thead th {\n",
              "        text-align: right;\n",
              "    }\n",
              "</style>\n",
              "<table border=\"1\" class=\"dataframe\">\n",
              "  <thead>\n",
              "    <tr style=\"text-align: right;\">\n",
              "      <th></th>\n",
              "      <th>Unnamed: 0</th>\n",
              "      <th>S.No</th>\n",
              "      <th>actual</th>\n",
              "      <th>pred</th>\n",
              "      <th>alive</th>\n",
              "      <th>plod</th>\n",
              "      <th>name</th>\n",
              "      <th>title</th>\n",
              "      <th>male</th>\n",
              "      <th>culture</th>\n",
              "      <th>dateOfBirth</th>\n",
              "      <th>DateoFdeath</th>\n",
              "      <th>mother</th>\n",
              "      <th>father</th>\n",
              "      <th>heir</th>\n",
              "      <th>house</th>\n",
              "      <th>spouse</th>\n",
              "      <th>book1</th>\n",
              "      <th>book2</th>\n",
              "      <th>book3</th>\n",
              "      <th>book4</th>\n",
              "      <th>book5</th>\n",
              "      <th>isAliveMother</th>\n",
              "      <th>isAliveFather</th>\n",
              "      <th>isAliveHeir</th>\n",
              "      <th>isAliveSpouse</th>\n",
              "      <th>isMarried</th>\n",
              "      <th>isNoble</th>\n",
              "      <th>age</th>\n",
              "      <th>numDeadRelations</th>\n",
              "      <th>boolDeadRelations</th>\n",
              "      <th>isPopular</th>\n",
              "      <th>popularity</th>\n",
              "      <th>isAlive</th>\n",
              "    </tr>\n",
              "  </thead>\n",
              "  <tbody>\n",
              "    <tr>\n",
              "      <th>count</th>\n",
              "      <td>1946.000000</td>\n",
              "      <td>1946.000000</td>\n",
              "      <td>1946.000000</td>\n",
              "      <td>1946.000000</td>\n",
              "      <td>1946.000000</td>\n",
              "      <td>1946.000000</td>\n",
              "      <td>1946</td>\n",
              "      <td>938</td>\n",
              "      <td>1946.000000</td>\n",
              "      <td>677</td>\n",
              "      <td>433.000000</td>\n",
              "      <td>444.000000</td>\n",
              "      <td>21</td>\n",
              "      <td>26</td>\n",
              "      <td>23</td>\n",
              "      <td>1519</td>\n",
              "      <td>276</td>\n",
              "      <td>1946.000000</td>\n",
              "      <td>1946.000000</td>\n",
              "      <td>1946.000000</td>\n",
              "      <td>1946.000000</td>\n",
              "      <td>1946.000000</td>\n",
              "      <td>21.000000</td>\n",
              "      <td>26.000000</td>\n",
              "      <td>23.000000</td>\n",
              "      <td>276.000000</td>\n",
              "      <td>1946.000000</td>\n",
              "      <td>1946.000000</td>\n",
              "      <td>433.000000</td>\n",
              "      <td>1946.000000</td>\n",
              "      <td>1946.000000</td>\n",
              "      <td>1946.000000</td>\n",
              "      <td>1946.000000</td>\n",
              "      <td>1946.000000</td>\n",
              "    </tr>\n",
              "    <tr>\n",
              "      <th>unique</th>\n",
              "      <td>NaN</td>\n",
              "      <td>NaN</td>\n",
              "      <td>NaN</td>\n",
              "      <td>NaN</td>\n",
              "      <td>NaN</td>\n",
              "      <td>NaN</td>\n",
              "      <td>1946</td>\n",
              "      <td>262</td>\n",
              "      <td>NaN</td>\n",
              "      <td>64</td>\n",
              "      <td>NaN</td>\n",
              "      <td>NaN</td>\n",
              "      <td>17</td>\n",
              "      <td>20</td>\n",
              "      <td>22</td>\n",
              "      <td>347</td>\n",
              "      <td>254</td>\n",
              "      <td>NaN</td>\n",
              "      <td>NaN</td>\n",
              "      <td>NaN</td>\n",
              "      <td>NaN</td>\n",
              "      <td>NaN</td>\n",
              "      <td>NaN</td>\n",
              "      <td>NaN</td>\n",
              "      <td>NaN</td>\n",
              "      <td>NaN</td>\n",
              "      <td>NaN</td>\n",
              "      <td>NaN</td>\n",
              "      <td>NaN</td>\n",
              "      <td>NaN</td>\n",
              "      <td>NaN</td>\n",
              "      <td>NaN</td>\n",
              "      <td>NaN</td>\n",
              "      <td>NaN</td>\n",
              "    </tr>\n",
              "    <tr>\n",
              "      <th>top</th>\n",
              "      <td>NaN</td>\n",
              "      <td>NaN</td>\n",
              "      <td>NaN</td>\n",
              "      <td>NaN</td>\n",
              "      <td>NaN</td>\n",
              "      <td>NaN</td>\n",
              "      <td>Eglantine</td>\n",
              "      <td>Ser</td>\n",
              "      <td>NaN</td>\n",
              "      <td>Northmen</td>\n",
              "      <td>NaN</td>\n",
              "      <td>NaN</td>\n",
              "      <td>Daenaera Velaryon</td>\n",
              "      <td>Aegon I Targaryen</td>\n",
              "      <td>Jaehaerys Targaryen</td>\n",
              "      <td>Night's Watch</td>\n",
              "      <td>Walder Frey</td>\n",
              "      <td>NaN</td>\n",
              "      <td>NaN</td>\n",
              "      <td>NaN</td>\n",
              "      <td>NaN</td>\n",
              "      <td>NaN</td>\n",
              "      <td>NaN</td>\n",
              "      <td>NaN</td>\n",
              "      <td>NaN</td>\n",
              "      <td>NaN</td>\n",
              "      <td>NaN</td>\n",
              "      <td>NaN</td>\n",
              "      <td>NaN</td>\n",
              "      <td>NaN</td>\n",
              "      <td>NaN</td>\n",
              "      <td>NaN</td>\n",
              "      <td>NaN</td>\n",
              "      <td>NaN</td>\n",
              "    </tr>\n",
              "    <tr>\n",
              "      <th>freq</th>\n",
              "      <td>NaN</td>\n",
              "      <td>NaN</td>\n",
              "      <td>NaN</td>\n",
              "      <td>NaN</td>\n",
              "      <td>NaN</td>\n",
              "      <td>NaN</td>\n",
              "      <td>1</td>\n",
              "      <td>384</td>\n",
              "      <td>NaN</td>\n",
              "      <td>124</td>\n",
              "      <td>NaN</td>\n",
              "      <td>NaN</td>\n",
              "      <td>2</td>\n",
              "      <td>2</td>\n",
              "      <td>2</td>\n",
              "      <td>105</td>\n",
              "      <td>7</td>\n",
              "      <td>NaN</td>\n",
              "      <td>NaN</td>\n",
              "      <td>NaN</td>\n",
              "      <td>NaN</td>\n",
              "      <td>NaN</td>\n",
              "      <td>NaN</td>\n",
              "      <td>NaN</td>\n",
              "      <td>NaN</td>\n",
              "      <td>NaN</td>\n",
              "      <td>NaN</td>\n",
              "      <td>NaN</td>\n",
              "      <td>NaN</td>\n",
              "      <td>NaN</td>\n",
              "      <td>NaN</td>\n",
              "      <td>NaN</td>\n",
              "      <td>NaN</td>\n",
              "      <td>NaN</td>\n",
              "    </tr>\n",
              "    <tr>\n",
              "      <th>mean</th>\n",
              "      <td>972.500000</td>\n",
              "      <td>973.500000</td>\n",
              "      <td>0.745632</td>\n",
              "      <td>0.687050</td>\n",
              "      <td>0.634470</td>\n",
              "      <td>0.365530</td>\n",
              "      <td>NaN</td>\n",
              "      <td>NaN</td>\n",
              "      <td>0.619219</td>\n",
              "      <td>NaN</td>\n",
              "      <td>1577.364896</td>\n",
              "      <td>2950.193694</td>\n",
              "      <td>NaN</td>\n",
              "      <td>NaN</td>\n",
              "      <td>NaN</td>\n",
              "      <td>NaN</td>\n",
              "      <td>NaN</td>\n",
              "      <td>0.198356</td>\n",
              "      <td>0.374615</td>\n",
              "      <td>0.480473</td>\n",
              "      <td>0.591984</td>\n",
              "      <td>0.395170</td>\n",
              "      <td>0.714286</td>\n",
              "      <td>0.192308</td>\n",
              "      <td>0.652174</td>\n",
              "      <td>0.778986</td>\n",
              "      <td>0.141829</td>\n",
              "      <td>0.460946</td>\n",
              "      <td>-1293.563510</td>\n",
              "      <td>0.305755</td>\n",
              "      <td>0.074512</td>\n",
              "      <td>0.059096</td>\n",
              "      <td>0.089584</td>\n",
              "      <td>0.745632</td>\n",
              "    </tr>\n",
              "    <tr>\n",
              "      <th>std</th>\n",
              "      <td>561.906131</td>\n",
              "      <td>561.906131</td>\n",
              "      <td>0.435617</td>\n",
              "      <td>0.463813</td>\n",
              "      <td>0.312637</td>\n",
              "      <td>0.312637</td>\n",
              "      <td>NaN</td>\n",
              "      <td>NaN</td>\n",
              "      <td>0.485704</td>\n",
              "      <td>NaN</td>\n",
              "      <td>19565.414460</td>\n",
              "      <td>28192.245529</td>\n",
              "      <td>NaN</td>\n",
              "      <td>NaN</td>\n",
              "      <td>NaN</td>\n",
              "      <td>NaN</td>\n",
              "      <td>NaN</td>\n",
              "      <td>0.398864</td>\n",
              "      <td>0.484148</td>\n",
              "      <td>0.499747</td>\n",
              "      <td>0.491593</td>\n",
              "      <td>0.489013</td>\n",
              "      <td>0.462910</td>\n",
              "      <td>0.401918</td>\n",
              "      <td>0.486985</td>\n",
              "      <td>0.415684</td>\n",
              "      <td>0.348965</td>\n",
              "      <td>0.498601</td>\n",
              "      <td>19564.340993</td>\n",
              "      <td>1.383910</td>\n",
              "      <td>0.262669</td>\n",
              "      <td>0.235864</td>\n",
              "      <td>0.160568</td>\n",
              "      <td>0.435617</td>\n",
              "    </tr>\n",
              "    <tr>\n",
              "      <th>min</th>\n",
              "      <td>0.000000</td>\n",
              "      <td>1.000000</td>\n",
              "      <td>0.000000</td>\n",
              "      <td>0.000000</td>\n",
              "      <td>0.000000</td>\n",
              "      <td>0.000000</td>\n",
              "      <td>NaN</td>\n",
              "      <td>NaN</td>\n",
              "      <td>0.000000</td>\n",
              "      <td>NaN</td>\n",
              "      <td>-28.000000</td>\n",
              "      <td>0.000000</td>\n",
              "      <td>NaN</td>\n",
              "      <td>NaN</td>\n",
              "      <td>NaN</td>\n",
              "      <td>NaN</td>\n",
              "      <td>NaN</td>\n",
              "      <td>0.000000</td>\n",
              "      <td>0.000000</td>\n",
              "      <td>0.000000</td>\n",
              "      <td>0.000000</td>\n",
              "      <td>0.000000</td>\n",
              "      <td>0.000000</td>\n",
              "      <td>0.000000</td>\n",
              "      <td>0.000000</td>\n",
              "      <td>0.000000</td>\n",
              "      <td>0.000000</td>\n",
              "      <td>0.000000</td>\n",
              "      <td>-298001.000000</td>\n",
              "      <td>0.000000</td>\n",
              "      <td>0.000000</td>\n",
              "      <td>0.000000</td>\n",
              "      <td>0.000000</td>\n",
              "      <td>0.000000</td>\n",
              "    </tr>\n",
              "    <tr>\n",
              "      <th>25%</th>\n",
              "      <td>486.250000</td>\n",
              "      <td>487.250000</td>\n",
              "      <td>0.000000</td>\n",
              "      <td>0.000000</td>\n",
              "      <td>0.391250</td>\n",
              "      <td>0.101000</td>\n",
              "      <td>NaN</td>\n",
              "      <td>NaN</td>\n",
              "      <td>0.000000</td>\n",
              "      <td>NaN</td>\n",
              "      <td>240.000000</td>\n",
              "      <td>282.000000</td>\n",
              "      <td>NaN</td>\n",
              "      <td>NaN</td>\n",
              "      <td>NaN</td>\n",
              "      <td>NaN</td>\n",
              "      <td>NaN</td>\n",
              "      <td>0.000000</td>\n",
              "      <td>0.000000</td>\n",
              "      <td>0.000000</td>\n",
              "      <td>0.000000</td>\n",
              "      <td>0.000000</td>\n",
              "      <td>0.000000</td>\n",
              "      <td>0.000000</td>\n",
              "      <td>0.000000</td>\n",
              "      <td>1.000000</td>\n",
              "      <td>0.000000</td>\n",
              "      <td>0.000000</td>\n",
              "      <td>18.000000</td>\n",
              "      <td>0.000000</td>\n",
              "      <td>0.000000</td>\n",
              "      <td>0.000000</td>\n",
              "      <td>0.013378</td>\n",
              "      <td>0.000000</td>\n",
              "    </tr>\n",
              "    <tr>\n",
              "      <th>50%</th>\n",
              "      <td>972.500000</td>\n",
              "      <td>973.500000</td>\n",
              "      <td>1.000000</td>\n",
              "      <td>1.000000</td>\n",
              "      <td>0.735500</td>\n",
              "      <td>0.264500</td>\n",
              "      <td>NaN</td>\n",
              "      <td>NaN</td>\n",
              "      <td>1.000000</td>\n",
              "      <td>NaN</td>\n",
              "      <td>268.000000</td>\n",
              "      <td>299.000000</td>\n",
              "      <td>NaN</td>\n",
              "      <td>NaN</td>\n",
              "      <td>NaN</td>\n",
              "      <td>NaN</td>\n",
              "      <td>NaN</td>\n",
              "      <td>0.000000</td>\n",
              "      <td>0.000000</td>\n",
              "      <td>0.000000</td>\n",
              "      <td>1.000000</td>\n",
              "      <td>0.000000</td>\n",
              "      <td>1.000000</td>\n",
              "      <td>0.000000</td>\n",
              "      <td>1.000000</td>\n",
              "      <td>1.000000</td>\n",
              "      <td>0.000000</td>\n",
              "      <td>0.000000</td>\n",
              "      <td>27.000000</td>\n",
              "      <td>0.000000</td>\n",
              "      <td>0.000000</td>\n",
              "      <td>0.000000</td>\n",
              "      <td>0.033445</td>\n",
              "      <td>1.000000</td>\n",
              "    </tr>\n",
              "    <tr>\n",
              "      <th>75%</th>\n",
              "      <td>1458.750000</td>\n",
              "      <td>1459.750000</td>\n",
              "      <td>1.000000</td>\n",
              "      <td>1.000000</td>\n",
              "      <td>0.899000</td>\n",
              "      <td>0.608750</td>\n",
              "      <td>NaN</td>\n",
              "      <td>NaN</td>\n",
              "      <td>1.000000</td>\n",
              "      <td>NaN</td>\n",
              "      <td>285.000000</td>\n",
              "      <td>299.000000</td>\n",
              "      <td>NaN</td>\n",
              "      <td>NaN</td>\n",
              "      <td>NaN</td>\n",
              "      <td>NaN</td>\n",
              "      <td>NaN</td>\n",
              "      <td>0.000000</td>\n",
              "      <td>1.000000</td>\n",
              "      <td>1.000000</td>\n",
              "      <td>1.000000</td>\n",
              "      <td>1.000000</td>\n",
              "      <td>1.000000</td>\n",
              "      <td>0.000000</td>\n",
              "      <td>1.000000</td>\n",
              "      <td>1.000000</td>\n",
              "      <td>0.000000</td>\n",
              "      <td>1.000000</td>\n",
              "      <td>50.000000</td>\n",
              "      <td>0.000000</td>\n",
              "      <td>0.000000</td>\n",
              "      <td>0.000000</td>\n",
              "      <td>0.086957</td>\n",
              "      <td>1.000000</td>\n",
              "    </tr>\n",
              "    <tr>\n",
              "      <th>max</th>\n",
              "      <td>1945.000000</td>\n",
              "      <td>1946.000000</td>\n",
              "      <td>1.000000</td>\n",
              "      <td>1.000000</td>\n",
              "      <td>1.000000</td>\n",
              "      <td>1.000000</td>\n",
              "      <td>NaN</td>\n",
              "      <td>NaN</td>\n",
              "      <td>1.000000</td>\n",
              "      <td>NaN</td>\n",
              "      <td>298299.000000</td>\n",
              "      <td>298299.000000</td>\n",
              "      <td>NaN</td>\n",
              "      <td>NaN</td>\n",
              "      <td>NaN</td>\n",
              "      <td>NaN</td>\n",
              "      <td>NaN</td>\n",
              "      <td>1.000000</td>\n",
              "      <td>1.000000</td>\n",
              "      <td>1.000000</td>\n",
              "      <td>1.000000</td>\n",
              "      <td>1.000000</td>\n",
              "      <td>1.000000</td>\n",
              "      <td>1.000000</td>\n",
              "      <td>1.000000</td>\n",
              "      <td>1.000000</td>\n",
              "      <td>1.000000</td>\n",
              "      <td>1.000000</td>\n",
              "      <td>100.000000</td>\n",
              "      <td>15.000000</td>\n",
              "      <td>1.000000</td>\n",
              "      <td>1.000000</td>\n",
              "      <td>1.000000</td>\n",
              "      <td>1.000000</td>\n",
              "    </tr>\n",
              "  </tbody>\n",
              "</table>\n",
              "</div>"
            ],
            "text/plain": [
              "         Unnamed: 0         S.No  ...   popularity      isAlive\n",
              "count   1946.000000  1946.000000  ...  1946.000000  1946.000000\n",
              "unique          NaN          NaN  ...          NaN          NaN\n",
              "top             NaN          NaN  ...          NaN          NaN\n",
              "freq            NaN          NaN  ...          NaN          NaN\n",
              "mean     972.500000   973.500000  ...     0.089584     0.745632\n",
              "std      561.906131   561.906131  ...     0.160568     0.435617\n",
              "min        0.000000     1.000000  ...     0.000000     0.000000\n",
              "25%      486.250000   487.250000  ...     0.013378     0.000000\n",
              "50%      972.500000   973.500000  ...     0.033445     1.000000\n",
              "75%     1458.750000  1459.750000  ...     0.086957     1.000000\n",
              "max     1945.000000  1946.000000  ...     1.000000     1.000000\n",
              "\n",
              "[11 rows x 34 columns]"
            ]
          },
          "metadata": {
            "tags": []
          },
          "execution_count": 7
        }
      ]
    },
    {
      "cell_type": "code",
      "metadata": {
        "id": "dL2vAoaE_Uet",
        "colab_type": "code",
        "colab": {
          "base_uri": "https://localhost:8080/",
          "height": 204
        },
        "outputId": "fbda2a1d-c00e-489f-89a9-3a1c048d8be6"
      },
      "source": [
        "got.house.value_counts(dropna=False).head(10)"
      ],
      "execution_count": 10,
      "outputs": [
        {
          "output_type": "execute_result",
          "data": {
            "text/plain": [
              "NaN                427\n",
              "Night's Watch      105\n",
              "House Frey          97\n",
              "House Stark         72\n",
              "House Targaryen     62\n",
              "House Lannister     49\n",
              "House Greyjoy       41\n",
              "House Tyrell        36\n",
              "House Martell       29\n",
              "House Osgrey        21\n",
              "Name: house, dtype: int64"
            ]
          },
          "metadata": {
            "tags": []
          },
          "execution_count": 10
        }
      ]
    },
    {
      "cell_type": "code",
      "metadata": {
        "id": "M__7S5aBBIgd",
        "colab_type": "code",
        "colab": {
          "base_uri": "https://localhost:8080/",
          "height": 204
        },
        "outputId": "835cca42-b9c2-4ba4-ed2e-3af25d7222fd"
      },
      "source": [
        "got.title.value_counts(dropna=False).head(10)"
      ],
      "execution_count": 11,
      "outputs": [
        {
          "output_type": "execute_result",
          "data": {
            "text/plain": [
              "NaN            1008\n",
              "Ser             384\n",
              "Maester          39\n",
              "Archmaester      21\n",
              "Lord             20\n",
              "Septon           18\n",
              "Winterfell       17\n",
              "Princess         16\n",
              "Lady             12\n",
              "Septa            10\n",
              "Name: title, dtype: int64"
            ]
          },
          "metadata": {
            "tags": []
          },
          "execution_count": 11
        }
      ]
    },
    {
      "cell_type": "code",
      "metadata": {
        "id": "h2Gla2VkCZlu",
        "colab_type": "code",
        "colab": {
          "base_uri": "https://localhost:8080/",
          "height": 68
        },
        "outputId": "cb620cf8-a394-4d3f-949d-cfcf22c2b776"
      },
      "source": [
        "got.male.value_counts(dropna=False)"
      ],
      "execution_count": 13,
      "outputs": [
        {
          "output_type": "execute_result",
          "data": {
            "text/plain": [
              "1    1205\n",
              "0     741\n",
              "Name: male, dtype: int64"
            ]
          },
          "metadata": {
            "tags": []
          },
          "execution_count": 13
        }
      ]
    },
    {
      "cell_type": "code",
      "metadata": {
        "id": "W_OsV3lM9e9v",
        "colab_type": "code",
        "colab": {}
      },
      "source": [
        "def data_wrangle(X):\n",
        "  X=X.copy()\n",
        "\n",
        "  duplicate=['Unnamed: 0', 'S.No', 'actual', \n",
        "             'pred', 'alive', 'plod']\n",
        "\n",
        "  X=X.drop(columns=duplicate)\n",
        "\n",
        "  X=X.fillna('Missing')\n",
        "\n",
        "  leakage=['DateoFdeath', 'book1', 'book2', \n",
        "           'book3', 'book4','book5']\n",
        "\n",
        "  X=X.drop(columns=leakage)\n",
        "\n",
        "  top7houses=[\"Night's Watch\", 'House Frey','House Stark',\n",
        "              'House Stark','House Targaryen','House Lannister',\n",
        "              'House Greyjoy','House Tyrell']\n",
        "\n",
        "  X.loc[~X['house'].isin(top7houses),'house']== 'Other'\n",
        "\n",
        "  top5=['Ser','Maester','Archmaester','Lord',\n",
        "        'Septon','Winterfell','Missing']\n",
        "\n",
        "  X.loc[~X['title'].isin(top5),'title']=='Other'\n",
        "  X.title.replace('Missing','No Title')\n",
        "\n",
        "  X['Female']=X.male == 0\n",
        "  X.male.replace(1, 'True')\n",
        "  X.male.replace(0,'False')\n",
        "\n",
        "  X.isAliveMother.replace(1,'True')\n",
        "  X.isAliveMother.replace(0,'False')\n",
        "\n",
        "  X.isAliveFather.replace(1,'True')\n",
        "  X.isAliveFather.replace(0,'False')\n",
        "\n",
        "  X.isAliveHeir.replace(1,'True')\n",
        "  X.isAliveHeir.replace(0,'False')\n",
        "\n",
        "  X.isAliveSpouse.replace(1,'True')\n",
        "  X.isAliveSpouse.replace(0,'False')\n",
        "\n",
        "  X.isMarried.replace(1,'True')\n",
        "  X.isMarried.replace(0,'False')\n",
        "\n",
        "  X.isNoble.replace(1,'True')\n",
        "  X.isNoble.replace(0,'False')\n",
        "\n",
        "  return X"
      ],
      "execution_count": 0,
      "outputs": []
    },
    {
      "cell_type": "code",
      "metadata": {
        "id": "uGm4ol_JFTE-",
        "colab_type": "code",
        "colab": {
          "base_uri": "https://localhost:8080/",
          "height": 279
        },
        "outputId": "f2ae774c-895f-4fd3-a4db-2b3dfe7c2a2e"
      },
      "source": [
        "import seaborn as sns\n",
        "import matplotlib.pyplot as plt\n",
        "%matplotlib inline\n",
        "\n",
        "sns.countplot(got.isAlive)\n",
        "plt.show()"
      ],
      "execution_count": 16,
      "outputs": [
        {
          "output_type": "display_data",
          "data": {
            "image/png": "[encoded data removed]",
            "text/plain": [
              "<Figure size 432x288 with 1 Axes>"
            ]
          },
          "metadata": {
            "tags": []
          }
        }
      ]
    },
    {
      "cell_type": "code",
      "metadata": {
        "id": "4KcdLQXAFcKB",
        "colab_type": "code",
        "colab": {
          "base_uri": "https://localhost:8080/",
          "height": 68
        },
        "outputId": "6b0bd5c8-c08d-4e62-f3e7-d41cef28fb31"
      },
      "source": [
        "got.isAlive.value_counts(normalize=True)"
      ],
      "execution_count": 17,
      "outputs": [
        {
          "output_type": "execute_result",
          "data": {
            "text/plain": [
              "1    0.745632\n",
              "0    0.254368\n",
              "Name: isAlive, dtype: float64"
            ]
          },
          "metadata": {
            "tags": []
          },
          "execution_count": 17
        }
      ]
    },
    {
      "cell_type": "code",
      "metadata": {
        "id": "5CuflmOGEwq6",
        "colab_type": "code",
        "colab": {}
      },
      "source": [
        "from sklearn.model_selection import train_test_split\n",
        "train=got.copy()\n",
        "train, test = train_test_split(train, train_size=.80, test_size=.20, \n",
        "                              stratify=train['isAlive'], random_state=42)\n",
        "\n",
        "train, val = train_test_split(train, test_size=len(test), \n",
        "                              stratify=train['isAlive'], random_state=42)"
      ],
      "execution_count": 0,
      "outputs": []
    },
    {
      "cell_type": "code",
      "metadata": {
        "id": "6CLtVyIzFkET",
        "colab_type": "code",
        "colab": {
          "base_uri": "https://localhost:8080/",
          "height": 34
        },
        "outputId": "7b954c28-89e7-4712-bd68-97a202a583b8"
      },
      "source": [
        "train.shape, val.shape, test.shape"
      ],
      "execution_count": 19,
      "outputs": [
        {
          "output_type": "execute_result",
          "data": {
            "text/plain": [
              "((1166, 34), (390, 34), (390, 34))"
            ]
          },
          "metadata": {
            "tags": []
          },
          "execution_count": 19
        }
      ]
    },
    {
      "cell_type": "code",
      "metadata": {
        "id": "UJDLQ7ojFl_H",
        "colab_type": "code",
        "colab": {
          "base_uri": "https://localhost:8080/",
          "height": 68
        },
        "outputId": "ed53eb43-76cc-4a5d-d296-6e5d6be79ebe"
      },
      "source": [
        "train.isAlive.value_counts(normalize=True)"
      ],
      "execution_count": 20,
      "outputs": [
        {
          "output_type": "execute_result",
          "data": {
            "text/plain": [
              "1    0.745283\n",
              "0    0.254717\n",
              "Name: isAlive, dtype: float64"
            ]
          },
          "metadata": {
            "tags": []
          },
          "execution_count": 20
        }
      ]
    },
    {
      "cell_type": "code",
      "metadata": {
        "id": "Iz14ZG7EFrC4",
        "colab_type": "code",
        "colab": {}
      },
      "source": [
        "train=data_wrangle(train)\n",
        "val=data_wrangle(val)\n",
        "test=data_wrangle(test)"
      ],
      "execution_count": 0,
      "outputs": []
    },
    {
      "cell_type": "code",
      "metadata": {
        "id": "HWlrnI24F0iC",
        "colab_type": "code",
        "colab": {
          "base_uri": "https://localhost:8080/",
          "height": 34
        },
        "outputId": "6cbc2d82-bcd6-49c0-b135-c5daf17e5968"
      },
      "source": [
        "train.shape, val.shape, test.shape"
      ],
      "execution_count": 24,
      "outputs": [
        {
          "output_type": "execute_result",
          "data": {
            "text/plain": [
              "((1166, 34), (390, 34), (390, 34))"
            ]
          },
          "metadata": {
            "tags": []
          },
          "execution_count": 24
        }
      ]
    },
    {
      "cell_type": "code",
      "metadata": {
        "id": "pXc-pz4pHxT3",
        "colab_type": "code",
        "colab": {
          "base_uri": "https://localhost:8080/",
          "height": 292
        },
        "outputId": "2f41ed60-2486-4e15-9f1f-8ba77335eca4"
      },
      "source": [
        "train.head()"
      ],
      "execution_count": 36,
      "outputs": [
        {
          "output_type": "execute_result",
          "data": {
            "text/html": [
              "<div>\n",
              "<style scoped>\n",
              "    .dataframe tbody tr th:only-of-type {\n",
              "        vertical-align: middle;\n",
              "    }\n",
              "\n",
              "    .dataframe tbody tr th {\n",
              "        vertical-align: top;\n",
              "    }\n",
              "\n",
              "    .dataframe thead th {\n",
              "        text-align: right;\n",
              "    }\n",
              "</style>\n",
              "<table border=\"1\" class=\"dataframe\">\n",
              "  <thead>\n",
              "    <tr style=\"text-align: right;\">\n",
              "      <th></th>\n",
              "      <th>name</th>\n",
              "      <th>title</th>\n",
              "      <th>male</th>\n",
              "      <th>culture</th>\n",
              "      <th>dateOfBirth</th>\n",
              "      <th>mother</th>\n",
              "      <th>father</th>\n",
              "      <th>heir</th>\n",
              "      <th>house</th>\n",
              "      <th>spouse</th>\n",
              "      <th>isAliveMother</th>\n",
              "      <th>isAliveFather</th>\n",
              "      <th>isAliveHeir</th>\n",
              "      <th>isAliveSpouse</th>\n",
              "      <th>isMarried</th>\n",
              "      <th>isNoble</th>\n",
              "      <th>age</th>\n",
              "      <th>numDeadRelations</th>\n",
              "      <th>boolDeadRelations</th>\n",
              "      <th>isPopular</th>\n",
              "      <th>popularity</th>\n",
              "      <th>isAlive</th>\n",
              "      <th>Female</th>\n",
              "    </tr>\n",
              "  </thead>\n",
              "  <tbody>\n",
              "    <tr>\n",
              "      <th>1110</th>\n",
              "      <td>Jacks</td>\n",
              "      <td>Missing</td>\n",
              "      <td>0</td>\n",
              "      <td>northmen</td>\n",
              "      <td>Missing</td>\n",
              "      <td>Missing</td>\n",
              "      <td>Missing</td>\n",
              "      <td>Missing</td>\n",
              "      <td>House Stark</td>\n",
              "      <td>Missing</td>\n",
              "      <td>Missing</td>\n",
              "      <td>Missing</td>\n",
              "      <td>Missing</td>\n",
              "      <td>Missing</td>\n",
              "      <td>0</td>\n",
              "      <td>0</td>\n",
              "      <td>Missing</td>\n",
              "      <td>0</td>\n",
              "      <td>0</td>\n",
              "      <td>0</td>\n",
              "      <td>0.033445</td>\n",
              "      <td>1</td>\n",
              "      <td>True</td>\n",
              "    </tr>\n",
              "    <tr>\n",
              "      <th>1714</th>\n",
              "      <td>Grunt</td>\n",
              "      <td>Missing</td>\n",
              "      <td>1</td>\n",
              "      <td>Northmen</td>\n",
              "      <td>Missing</td>\n",
              "      <td>Missing</td>\n",
              "      <td>Missing</td>\n",
              "      <td>Missing</td>\n",
              "      <td>House Bolton</td>\n",
              "      <td>Missing</td>\n",
              "      <td>Missing</td>\n",
              "      <td>Missing</td>\n",
              "      <td>Missing</td>\n",
              "      <td>Missing</td>\n",
              "      <td>0</td>\n",
              "      <td>0</td>\n",
              "      <td>Missing</td>\n",
              "      <td>0</td>\n",
              "      <td>0</td>\n",
              "      <td>0</td>\n",
              "      <td>0.026756</td>\n",
              "      <td>1</td>\n",
              "      <td>False</td>\n",
              "    </tr>\n",
              "    <tr>\n",
              "      <th>960</th>\n",
              "      <td>Clubfoot Karl</td>\n",
              "      <td>Missing</td>\n",
              "      <td>1</td>\n",
              "      <td>Missing</td>\n",
              "      <td>Missing</td>\n",
              "      <td>Missing</td>\n",
              "      <td>Missing</td>\n",
              "      <td>Missing</td>\n",
              "      <td>Night's Watch</td>\n",
              "      <td>Missing</td>\n",
              "      <td>Missing</td>\n",
              "      <td>Missing</td>\n",
              "      <td>Missing</td>\n",
              "      <td>Missing</td>\n",
              "      <td>0</td>\n",
              "      <td>0</td>\n",
              "      <td>Missing</td>\n",
              "      <td>0</td>\n",
              "      <td>0</td>\n",
              "      <td>0</td>\n",
              "      <td>0.026756</td>\n",
              "      <td>0</td>\n",
              "      <td>False</td>\n",
              "    </tr>\n",
              "    <tr>\n",
              "      <th>381</th>\n",
              "      <td>Brenett</td>\n",
              "      <td>Maester</td>\n",
              "      <td>1</td>\n",
              "      <td>Missing</td>\n",
              "      <td>Missing</td>\n",
              "      <td>Missing</td>\n",
              "      <td>Missing</td>\n",
              "      <td>Missing</td>\n",
              "      <td>House Frey</td>\n",
              "      <td>Missing</td>\n",
              "      <td>Missing</td>\n",
              "      <td>Missing</td>\n",
              "      <td>Missing</td>\n",
              "      <td>Missing</td>\n",
              "      <td>0</td>\n",
              "      <td>1</td>\n",
              "      <td>Missing</td>\n",
              "      <td>0</td>\n",
              "      <td>0</td>\n",
              "      <td>0</td>\n",
              "      <td>0.003344</td>\n",
              "      <td>1</td>\n",
              "      <td>False</td>\n",
              "    </tr>\n",
              "    <tr>\n",
              "      <th>1720</th>\n",
              "      <td>Hazzea</td>\n",
              "      <td>Missing</td>\n",
              "      <td>0</td>\n",
              "      <td>Ghiscari</td>\n",
              "      <td>295</td>\n",
              "      <td>Missing</td>\n",
              "      <td>Missing</td>\n",
              "      <td>Missing</td>\n",
              "      <td>Missing</td>\n",
              "      <td>Missing</td>\n",
              "      <td>Missing</td>\n",
              "      <td>Missing</td>\n",
              "      <td>Missing</td>\n",
              "      <td>Missing</td>\n",
              "      <td>0</td>\n",
              "      <td>0</td>\n",
              "      <td>5</td>\n",
              "      <td>0</td>\n",
              "      <td>0</td>\n",
              "      <td>0</td>\n",
              "      <td>0.043478</td>\n",
              "      <td>0</td>\n",
              "      <td>True</td>\n",
              "    </tr>\n",
              "  </tbody>\n",
              "</table>\n",
              "</div>"
            ],
            "text/plain": [
              "               name    title  male  ... popularity isAlive Female\n",
              "1110          Jacks  Missing     0  ...   0.033445       1   True\n",
              "1714          Grunt  Missing     1  ...   0.026756       1  False\n",
              "960   Clubfoot Karl  Missing     1  ...   0.026756       0  False\n",
              "381         Brenett  Maester     1  ...   0.003344       1  False\n",
              "1720         Hazzea  Missing     0  ...   0.043478       0   True\n",
              "\n",
              "[5 rows x 23 columns]"
            ]
          },
          "metadata": {
            "tags": []
          },
          "execution_count": 36
        }
      ]
    },
    {
      "cell_type": "code",
      "metadata": {
        "id": "i-WMD5BlGiKh",
        "colab_type": "code",
        "colab": {
          "base_uri": "https://localhost:8080/",
          "height": 292
        },
        "outputId": "7f7e5834-029e-40af-a80a-1802b7506384"
      },
      "source": [
        "!pip install category_encoders"
      ],
      "execution_count": 26,
      "outputs": [
        {
          "output_type": "stream",
          "text": [
            "Collecting category_encoders\n",
            "\u001b[?25l  Downloading https://files.pythonhosted.org/packages/a0/52/c54191ad3782de633ea3d6ee3bb2837bda0cf3bc97644bb6375cf14150a0/category_encoders-2.1.0-py2.py3-none-any.whl (100kB)\n",
            "\r\u001b[K     |███▎                            | 10kB 20.3MB/s eta 0:00:01\r\u001b[K     |██████▌                         | 20kB 1.8MB/s eta 0:00:01\r\u001b[K     |█████████▉                      | 30kB 2.4MB/s eta 0:00:01\r\u001b[K     |█████████████                   | 40kB 1.7MB/s eta 0:00:01\r\u001b[K     |████████████████▍               | 51kB 2.0MB/s eta 0:00:01\r\u001b[K     |███████████████████▋            | 61kB 2.3MB/s eta 0:00:01\r\u001b[K     |██████████████████████▉         | 71kB 2.5MB/s eta 0:00:01\r\u001b[K     |██████████████████████████▏     | 81kB 2.7MB/s eta 0:00:01\r\u001b[K     |█████████████████████████████▍  | 92kB 3.0MB/s eta 0:00:01\r\u001b[K     |████████████████████████████████| 102kB 2.4MB/s \n",
            "\u001b[?25hRequirement already satisfied: statsmodels>=0.6.1 in /usr/local/lib/python3.6/dist-packages (from category_encoders) (0.10.2)\n",
            "Requirement already satisfied: scipy>=0.19.0 in /usr/local/lib/python3.6/dist-packages (from category_encoders) (1.4.1)\n",
            "Requirement already satisfied: numpy>=1.11.3 in /usr/local/lib/python3.6/dist-packages (from category_encoders) (1.18.2)\n",
            "Requirement already satisfied: pandas>=0.21.1 in /usr/local/lib/python3.6/dist-packages (from category_encoders) (0.25.3)\n",
            "Requirement already satisfied: scikit-learn>=0.20.0 in /usr/local/lib/python3.6/dist-packages (from category_encoders) (0.22.2.post1)\n",
            "Requirement already satisfied: patsy>=0.4.1 in /usr/local/lib/python3.6/dist-packages (from category_encoders) (0.5.1)\n",
            "Requirement already satisfied: python-dateutil>=2.6.1 in /usr/local/lib/python3.6/dist-packages (from pandas>=0.21.1->category_encoders) (2.8.1)\n",
            "Requirement already satisfied: pytz>=2017.2 in /usr/local/lib/python3.6/dist-packages (from pandas>=0.21.1->category_encoders) (2018.9)\n",
            "Requirement already satisfied: joblib>=0.11 in /usr/local/lib/python3.6/dist-packages (from scikit-learn>=0.20.0->category_encoders) (0.14.1)\n",
            "Requirement already satisfied: six in /usr/local/lib/python3.6/dist-packages (from patsy>=0.4.1->category_encoders) (1.12.0)\n",
            "Installing collected packages: category-encoders\n",
            "Successfully installed category-encoders-2.1.0\n"
          ],
          "name": "stdout"
        }
      ]
    },
    {
      "cell_type": "code",
      "metadata": {
        "id": "owO9bMJMGLYk",
        "colab_type": "code",
        "colab": {}
      },
      "source": [
        "import category_encoders as ce\n",
        "from sklearn.pipeline import make_pipeline\n",
        "from sklearn.ensemble import RandomForestClassifier\n",
        "from sklearn.impute import SimpleImputer\n",
        "from sklearn.preprocessing import StandardScaler"
      ],
      "execution_count": 0,
      "outputs": []
    },
    {
      "cell_type": "code",
      "metadata": {
        "id": "U9Vi545KGgsr",
        "colab_type": "code",
        "colab": {
          "base_uri": "https://localhost:8080/",
          "height": 51
        },
        "outputId": "a3f5f1ba-8de1-415e-dc4a-b05e7f0a4c1a"
      },
      "source": [
        "target='isAlive'\n",
        "features= train.drop(columns=[target]).columns\n",
        "# print(features)\n",
        "x_train=train[features]\n",
        "y_train=train[target]\n",
        "# y_train\n",
        "x_val=val[features]\n",
        "y_val=val[target]\n",
        "#x_test\n",
        "x_test=test[features]\n",
        "y_test=test[target]\n",
        "\n",
        "pipeline=make_pipeline(\n",
        "    ce.OrdinalEncoder(),\n",
        "    SimpleImputer(),\n",
        "    StandardScaler(),\n",
        "    RandomForestClassifier(random_state=42, n_jobs=-1, max_depth=3)\n",
        ")\n",
        "pipeline.fit(x_train,y_train)\n",
        "y_pred=pipeline.predict(x_test)\n",
        "print('Train Accuracy:', pipeline.score(x_train,y_train))\n",
        "print('Accuracy Score:', pipeline.score(x_val,y_val))"
      ],
      "execution_count": 45,
      "outputs": [
        {
          "output_type": "stream",
          "text": [
            "Train Accuracy: 0.7735849056603774\n",
            "Accuracy Score: 0.7615384615384615\n"
          ],
          "name": "stdout"
        }
      ]
    },
    {
      "cell_type": "code",
      "metadata": {
        "id": "9rJNQBQmG7JL",
        "colab_type": "code",
        "colab": {
          "base_uri": "https://localhost:8080/",
          "height": 34
        },
        "outputId": "4834bfa3-aba3-4446-8bac-639c305264c6"
      },
      "source": [
        "from sklearn.metrics import roc_auc_score\n",
        "y_pred_proba = pipeline.predict_proba(x_val)[:, -1]\n",
        "roc_auc_score(y_val, y_pred_proba)"
      ],
      "execution_count": 46,
      "outputs": [
        {
          "output_type": "execute_result",
          "data": {
            "text/plain": [
              "0.7118435211218717"
            ]
          },
          "metadata": {
            "tags": []
          },
          "execution_count": 46
        }
      ]
    },
    {
      "cell_type": "code",
      "metadata": {
        "id": "D1Ywr_glHEZO",
        "colab_type": "code",
        "colab": {
          "base_uri": "https://localhost:8080/",
          "height": 1000
        },
        "outputId": "cbd2b2f5-1358-4248-da4a-e1c302aefb2e"
      },
      "source": [
        "from sklearn.metrics import roc_curve\n",
        "fpr, tpr, thresholds = roc_curve(y_val, y_pred_proba)\n",
        "(fpr, tpr, thresholds)"
      ],
      "execution_count": 47,
      "outputs": [
        {
          "output_type": "execute_result",
          "data": {
            "text/plain": [
              "(array([0.        , 0.01010101, 0.01010101, 0.01010101, 0.01010101,\n",
              "        0.01010101, 0.01010101, 0.02020202, 0.03030303, 0.03030303,\n",
              "        0.03030303, 0.04040404, 0.04040404, 0.04040404, 0.04040404,\n",
              "        0.04040404, 0.04040404, 0.04040404, 0.04040404, 0.05050505,\n",
              "        0.05050505, 0.05050505, 0.05050505, 0.06060606, 0.06060606,\n",
              "        0.06060606, 0.07070707, 0.07070707, 0.07070707, 0.07070707,\n",
              "        0.07070707, 0.07070707, 0.09090909, 0.09090909, 0.1010101 ,\n",
              "        0.1010101 , 0.11111111, 0.11111111, 0.11111111, 0.11111111,\n",
              "        0.11111111, 0.13131313, 0.13131313, 0.14141414, 0.14141414,\n",
              "        0.14141414, 0.14141414, 0.15151515, 0.16161616, 0.16161616,\n",
              "        0.17171717, 0.17171717, 0.17171717, 0.17171717, 0.18181818,\n",
              "        0.18181818, 0.2020202 , 0.22222222, 0.22222222, 0.23232323,\n",
              "        0.23232323, 0.24242424, 0.24242424, 0.25252525, 0.25252525,\n",
              "        0.25252525, 0.25252525, 0.27272727, 0.28282828, 0.28282828,\n",
              "        0.3030303 , 0.3030303 , 0.31313131, 0.31313131, 0.32323232,\n",
              "        0.32323232, 0.32323232, 0.32323232, 0.32323232, 0.34343434,\n",
              "        0.36363636, 0.36363636, 0.37373737, 0.37373737, 0.39393939,\n",
              "        0.39393939, 0.41414141, 0.41414141, 0.42424242, 0.44444444,\n",
              "        0.44444444, 0.45454545, 0.45454545, 0.46464646, 0.47474747,\n",
              "        0.47474747, 0.48484848, 0.48484848, 0.49494949, 0.50505051,\n",
              "        0.50505051, 0.50505051, 0.50505051, 0.50505051, 0.51515152,\n",
              "        0.51515152, 0.52525253, 0.52525253, 0.52525253, 0.53535354,\n",
              "        0.53535354, 0.54545455, 0.54545455, 0.56565657, 0.5959596 ,\n",
              "        0.5959596 , 0.5959596 , 0.5959596 , 0.5959596 , 0.60606061,\n",
              "        0.60606061, 0.60606061, 0.61616162, 0.62626263, 0.62626263,\n",
              "        0.63636364, 0.63636364, 0.64646465, 0.64646465, 0.67676768,\n",
              "        0.67676768, 0.6969697 , 0.6969697 , 0.70707071, 0.70707071,\n",
              "        0.71717172, 0.71717172, 0.73737374, 0.73737374, 0.75757576,\n",
              "        0.75757576, 0.76767677, 0.76767677, 0.81818182, 0.81818182,\n",
              "        0.83838384, 0.83838384, 0.85858586, 0.85858586, 0.86868687,\n",
              "        0.86868687, 0.88888889, 0.88888889, 0.90909091, 0.90909091,\n",
              "        0.91919192, 0.91919192, 1.        ]),\n",
              " array([0.        , 0.        , 0.00343643, 0.0137457 , 0.01718213,\n",
              "        0.02405498, 0.03436426, 0.05498282, 0.0652921 , 0.07216495,\n",
              "        0.0790378 , 0.08591065, 0.08934708, 0.09621993, 0.12027491,\n",
              "        0.12714777, 0.13402062, 0.14089347, 0.1580756 , 0.1580756 ,\n",
              "        0.16494845, 0.17525773, 0.18900344, 0.18900344, 0.20618557,\n",
              "        0.21993127, 0.21993127, 0.22680412, 0.23367698, 0.25085911,\n",
              "        0.25773196, 0.26460481, 0.26460481, 0.28178694, 0.28178694,\n",
              "        0.30584192, 0.30584192, 0.3161512 , 0.32302405, 0.32989691,\n",
              "        0.34020619, 0.34707904, 0.35395189, 0.35738832, 0.37113402,\n",
              "        0.38831615, 0.39175258, 0.39175258, 0.395189  , 0.45704467,\n",
              "        0.45704467, 0.49140893, 0.50171821, 0.52233677, 0.5257732 ,\n",
              "        0.54295533, 0.54295533, 0.54295533, 0.55670103, 0.55670103,\n",
              "        0.56013746, 0.56013746, 0.56357388, 0.56357388, 0.56701031,\n",
              "        0.57731959, 0.58419244, 0.58419244, 0.58762887, 0.60824742,\n",
              "        0.60824742, 0.61168385, 0.62542955, 0.62886598, 0.63230241,\n",
              "        0.63573883, 0.64261168, 0.64604811, 0.65292096, 0.65979381,\n",
              "        0.67353952, 0.68041237, 0.68041237, 0.6838488 , 0.69415808,\n",
              "        0.70103093, 0.70103093, 0.70446735, 0.71821306, 0.71821306,\n",
              "        0.72508591, 0.72508591, 0.73195876, 0.73195876, 0.73539519,\n",
              "        0.73883162, 0.73883162, 0.74226804, 0.74570447, 0.74570447,\n",
              "        0.75257732, 0.75601375, 0.76632302, 0.76975945, 0.78350515,\n",
              "        0.78694158, 0.78694158, 0.79381443, 0.80068729, 0.80068729,\n",
              "        0.80756014, 0.80756014, 0.81099656, 0.81099656, 0.81786942,\n",
              "        0.82474227, 0.83161512, 0.8419244 , 0.84879725, 0.84879725,\n",
              "        0.8556701 , 0.85910653, 0.86254296, 0.86254296, 0.86597938,\n",
              "        0.86597938, 0.87285223, 0.87285223, 0.89690722, 0.89690722,\n",
              "        0.90034364, 0.90034364, 0.91065292, 0.91065292, 0.91408935,\n",
              "        0.91408935, 0.9209622 , 0.9209622 , 0.93127148, 0.93127148,\n",
              "        0.95189003, 0.95189003, 0.95532646, 0.95532646, 0.96219931,\n",
              "        0.96219931, 0.96563574, 0.96563574, 0.97250859, 0.97250859,\n",
              "        0.97594502, 0.97594502, 0.9862543 , 0.9862543 , 0.99656357,\n",
              "        0.99656357, 1.        , 1.        ]),\n",
              " array([1.84054823, 0.84054823, 0.84011405, 0.83864078, 0.83854235,\n",
              "        0.83842483, 0.83700296, 0.83676875, 0.83600932, 0.83426613,\n",
              "        0.83213155, 0.83078388, 0.830472  , 0.82760064, 0.82023606,\n",
              "        0.81940023, 0.81469906, 0.81434478, 0.80926662, 0.80800241,\n",
              "        0.80778094, 0.80731593, 0.80639632, 0.80633033, 0.80617635,\n",
              "        0.80351705, 0.80326514, 0.80202685, 0.80139167, 0.79699572,\n",
              "        0.79494143, 0.79413334, 0.79309456, 0.78868196, 0.78851658,\n",
              "        0.78550398, 0.78448975, 0.78269708, 0.78245106, 0.78129531,\n",
              "        0.78103955, 0.77803951, 0.77784379, 0.77658874, 0.77570959,\n",
              "        0.77559416, 0.77538548, 0.7740394 , 0.77352327, 0.76709546,\n",
              "        0.76708024, 0.76412908, 0.76372442, 0.76119258, 0.76112925,\n",
              "        0.75896611, 0.75886659, 0.75864365, 0.75818464, 0.75795816,\n",
              "        0.75787201, 0.75761855, 0.75700111, 0.75586945, 0.75408185,\n",
              "        0.75390193, 0.75379104, 0.75175854, 0.75172863, 0.7499075 ,\n",
              "        0.74864294, 0.74791244, 0.74740743, 0.74724074, 0.74724059,\n",
              "        0.74718517, 0.74673404, 0.74652394, 0.74588367, 0.74580526,\n",
              "        0.74520786, 0.74510106, 0.74470691, 0.74377511, 0.74296174,\n",
              "        0.74191825, 0.74139326, 0.74114744, 0.74085676, 0.73977168,\n",
              "        0.73902587, 0.73856151, 0.73831552, 0.73797717, 0.73776406,\n",
              "        0.73755495, 0.73682832, 0.73676787, 0.73647878, 0.73513859,\n",
              "        0.73445425, 0.73417844, 0.73386682, 0.73363592, 0.73342019,\n",
              "        0.73339425, 0.73314385, 0.73229357, 0.73212165, 0.73199234,\n",
              "        0.73108907, 0.73051948, 0.7302172 , 0.72956503, 0.72906909,\n",
              "        0.72826783, 0.72737557, 0.72705965, 0.72518623, 0.72504342,\n",
              "        0.72449572, 0.72377406, 0.72369447, 0.72345574, 0.72091609,\n",
              "        0.72002311, 0.71866018, 0.71764889, 0.70755196, 0.70436181,\n",
              "        0.70278016, 0.69776132, 0.68141452, 0.67037038, 0.66984778,\n",
              "        0.66733875, 0.66484455, 0.65638661, 0.65084652, 0.64943295,\n",
              "        0.63771287, 0.63161228, 0.62720853, 0.60308024, 0.58261397,\n",
              "        0.58035131, 0.57920963, 0.56152938, 0.55874169, 0.55317781,\n",
              "        0.54813343, 0.54453215, 0.50149353, 0.49983587, 0.48971761,\n",
              "        0.483971  , 0.47656522, 0.37815804]))"
            ]
          },
          "metadata": {
            "tags": []
          },
          "execution_count": 47
        }
      ]
    },
    {
      "cell_type": "code",
      "metadata": {
        "id": "yyFqo1bbHHtb",
        "colab_type": "code",
        "colab": {
          "base_uri": "https://localhost:8080/",
          "height": 312
        },
        "outputId": "7cdb4e9a-f25e-4993-aa19-6e909f35796f"
      },
      "source": [
        "import matplotlib.pyplot as plt\n",
        "plt.scatter(fpr, tpr)\n",
        "plt.plot(fpr, tpr)\n",
        "plt.title('ROC curve')\n",
        "plt.xlabel('False Positive Rate')\n",
        "plt.ylabel('True Positive Rate')"
      ],
      "execution_count": 48,
      "outputs": [
        {
          "output_type": "execute_result",
          "data": {
            "text/plain": [
              "Text(0, 0.5, 'True Positive Rate')"
            ]
          },
          "metadata": {
            "tags": []
          },
          "execution_count": 48
        },
        {
          "output_type": "display_data",
          "data": {
            "image/png": "[encoded data removed]",
            "text/plain": [
              "<Figure size 432x288 with 1 Axes>"
            ]
          },
          "metadata": {
            "tags": []
          }
        }
      ]
    },
    {
      "cell_type": "code",
      "metadata": {
        "id": "3KQx6UXjHKiv",
        "colab_type": "code",
        "colab": {
          "base_uri": "https://localhost:8080/",
          "height": 34
        },
        "outputId": "5940a145-3360-4bde-e0ed-e957e4897e2d"
      },
      "source": [
        "roc_auc_score(y_test, y_pred)"
      ],
      "execution_count": 49,
      "outputs": [
        {
          "output_type": "execute_result",
          "data": {
            "text/plain": [
              "0.5368634801624492"
            ]
          },
          "metadata": {
            "tags": []
          },
          "execution_count": 49
        }
      ]
    },
    {
      "cell_type": "code",
      "metadata": {
        "id": "ZvNPUHIOHPRg",
        "colab_type": "code",
        "colab": {
          "base_uri": "https://localhost:8080/",
          "height": 624
        },
        "outputId": "79185f15-2f25-4fab-eea1-e44e5bf6ba03"
      },
      "source": [
        "# Get encoded values\n",
        "encoder = pipeline.named_steps['ordinalencoder']\n",
        "encoded = encoder.transform(x_train)\n",
        "print ('Print X_train shape after encoding', encoded.shape)\n",
        "\n",
        "# Get feature importances\n",
        "rf = pipeline.named_steps['randomforestclassifier']\n",
        "importances = pd.Series(rf.feature_importances_, encoded.columns)\n",
        "\n",
        "n = 20\n",
        "plt.figure(figsize=(10, n/2))\n",
        "plt.title(f'Top {n} features')\n",
        "importances.sort_values()[-n:].plot.barh();"
      ],
      "execution_count": 50,
      "outputs": [
        {
          "output_type": "stream",
          "text": [
            "Print X_train shape after encoding (1166, 22)\n"
          ],
          "name": "stdout"
        },
        {
          "output_type": "display_data",
          "data": {
            "image/png": "[encoded data removed]",
            "text/plain": [
              "<Figure size 720x720 with 1 Axes>"
            ]
          },
          "metadata": {
            "tags": []
          }
        }
      ]
    },
    {
      "cell_type": "code",
      "metadata": {
        "id": "BVnP482UHWVe",
        "colab_type": "code",
        "colab": {}
      },
      "source": [
        ""
      ],
      "execution_count": 0,
      "outputs": []
    }
  ]
}