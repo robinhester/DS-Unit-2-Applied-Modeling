{
  "nbformat": 4,
  "nbformat_minor": 0,
  "metadata": {
    "kernelspec": {
      "display_name": "Python 3",
      "language": "python",
      "name": "python3"
    },
    "language_info": {
      "codemirror_mode": {
        "name": "ipython",
        "version": 3
      },
      "file_extension": ".py",
      "mimetype": "text/x-python",
      "name": "python",
      "nbconvert_exporter": "python",
      "pygments_lexer": "ipython3",
      "version": "3.7.3"
    },
    "colab": {
      "name": "Permutation_Boosting_LS_DS_233_assignment.ipynb",
      "provenance": [],
      "include_colab_link": true
    }
  },
  "cells": [
    {
      "cell_type": "markdown",
      "metadata": {
        "id": "view-in-github",
        "colab_type": "text"
      },
      "source": [
        "<a href=\"https://colab.research.google.com/github/robinhester/DS-Unit-2-Applied-Modeling/blob/master/module3-permutation-boosting/Permutation_Boosting_LS_DS_233_assignment.ipynb\" target=\"_parent\"><img src=\"https://colab.research.google.com/assets/colab-badge.svg\" alt=\"Open In Colab\"/></a>"
      ]
    },
    {
      "cell_type": "markdown",
      "metadata": {
        "colab_type": "text",
        "id": "nCc3XZEyG3XV"
      },
      "source": [
        "Lambda School Data Science\n",
        "\n",
        "*Unit 2, Sprint 3, Module 3*\n",
        "\n",
        "---\n",
        "\n",
        "\n",
        "# Permutation & Boosting\n",
        "\n",
        "You will use your portfolio project dataset for all assignments this sprint.\n",
        "\n",
        "## Assignment\n",
        "\n",
        "Complete these tasks for your project, and document your work.\n",
        "\n",
        "- [ ] If you haven't completed assignment #1, please do so first.\n",
        "- [ ] Continue to clean and explore your data. Make exploratory visualizations.\n",
        "- [ ] Fit a model. Does it beat your baseline? \n",
        "- [ ] Try xgboost.\n",
        "- [ ] Get your model's permutation importances.\n",
        "\n",
        "You should try to complete an initial model today, because the rest of the week, we're making model interpretation visualizations.\n",
        "\n",
        "But, if you aren't ready to try xgboost and permutation importances with your dataset today, that's okay. You can practice with another dataset instead. You may choose any dataset you've worked with previously.\n",
        "\n",
        "The data subdirectory includes the Titanic dataset for classification and the NYC apartments dataset for regression. You may want to choose one of these datasets, because example solutions will be available for each.\n",
        "\n",
        "\n",
        "## Reading\n",
        "\n",
        "Top recommendations in _**bold italic:**_\n",
        "\n",
        "#### Permutation Importances\n",
        "- _**[Kaggle / Dan Becker: Machine Learning Explainability](https://www.kaggle.com/dansbecker/permutation-importance)**_\n",
        "- [Christoph Molnar: Interpretable Machine Learning](https://christophm.github.io/interpretable-ml-book/feature-importance.html)\n",
        "\n",
        "#### (Default) Feature Importances\n",
        "  - [Ando Saabas: Selecting good features, Part 3, Random Forests](https://blog.datadive.net/selecting-good-features-part-iii-random-forests/)\n",
        "  - [Terence Parr, et al: Beware Default Random Forest Importances](https://explained.ai/rf-importance/index.html)\n",
        "\n",
        "#### Gradient Boosting\n",
        "  - [A Gentle Introduction to the Gradient Boosting Algorithm for Machine Learning](https://machinelearningmastery.com/gentle-introduction-gradient-boosting-algorithm-machine-learning/)\n",
        "  - [An Introduction to Statistical Learning](http://www-bcf.usc.edu/~gareth/ISL/ISLR%20Seventh%20Printing.pdf), Chapter 8\n",
        "  - _**[Gradient Boosting Explained](https://www.gormanalysis.com/blog/gradient-boosting-explained/)**_ — Ben Gorman\n",
        "  - [Gradient Boosting Explained](http://arogozhnikov.github.io/2016/06/24/gradient_boosting_explained.html) — Alex Rogozhnikov\n",
        "  - [How to explain gradient boosting](https://explained.ai/gradient-boosting/) — Terence Parr & Jeremy Howard"
      ]
    },
    {
      "cell_type": "code",
      "metadata": {
        "id": "45212rUB1bRP",
        "colab_type": "code",
        "colab": {}
      },
      "source": [
        "import pandas as pd "
      ],
      "execution_count": 0,
      "outputs": []
    },
    {
      "cell_type": "code",
      "metadata": {
        "id": "MOSK9HDA1c3U",
        "colab_type": "code",
        "colab": {}
      },
      "source": [
        "got=pd.read_csv('https://raw.githubusercontent.com/robinhester/DS-Unit-2-Applied-Modeling/master/data/gameofthrones.csv')"
      ],
      "execution_count": 0,
      "outputs": []
    },
    {
      "cell_type": "code",
      "metadata": {
        "id": "W_OsV3lM9e9v",
        "colab_type": "code",
        "colab": {}
      },
      "source": [
        "def data_wrangle(X):\n",
        "  X=X.copy()\n",
        "\n",
        "  duplicate=['Unnamed: 0', 'S.No', 'actual', \n",
        "             'pred', 'alive', 'plod']\n",
        "\n",
        "  X=X.drop(columns=duplicate)\n",
        "\n",
        "  X=X.fillna('Missing')\n",
        "\n",
        "  leakage=['DateoFdeath', 'book1', 'book2', \n",
        "           'book3', 'book4','book5']\n",
        "\n",
        "  X=X.drop(columns=leakage)\n",
        "\n",
        "  top7houses=[\"Night's Watch\", 'House Frey','House Stark',\n",
        "              'House Stark','House Targaryen','House Lannister',\n",
        "              'House Greyjoy','House Tyrell']\n",
        "\n",
        "  X.loc[~X['house'].isin(top7houses),'house']== 'Other'\n",
        "\n",
        "  top5=['Ser','Maester','Archmaester','Lord',\n",
        "        'Septon','Winterfell','Missing']\n",
        "\n",
        "  X.loc[~X['title'].isin(top5),'title']=='Other'\n",
        "  X.title.replace('Missing','No Title')\n",
        "\n",
        "  X['Female']=X.male == 0\n",
        "  X.male.replace(1, 'True')\n",
        "  X.male.replace(0,'False')\n",
        "\n",
        "  X.isAliveMother.replace(1,'True')\n",
        "  X.isAliveMother.replace(0,'False')\n",
        "\n",
        "  X.isAliveFather.replace(1,'True')\n",
        "  X.isAliveFather.replace(0,'False')\n",
        "\n",
        "  X.isAliveHeir.replace(1,'True')\n",
        "  X.isAliveHeir.replace(0,'False')\n",
        "\n",
        "  X.isAliveSpouse.replace(1,'True')\n",
        "  X.isAliveSpouse.replace(0,'False')\n",
        "\n",
        "  X.isMarried.replace(1,'True')\n",
        "  X.isMarried.replace(0,'False')\n",
        "\n",
        "  X.isNoble.replace(1,'True')\n",
        "  X.isNoble.replace(0,'False')\n",
        "\n",
        "  return X"
      ],
      "execution_count": 0,
      "outputs": []
    },
    {
      "cell_type": "code",
      "metadata": {
        "id": "cTvRnpb4aDbN",
        "colab_type": "code",
        "colab": {}
      },
      "source": [
        "from sklearn.model_selection import train_test_split\n",
        "train=got.copy()\n",
        "train, test = train_test_split(train, train_size=.80, test_size=.20, \n",
        "                              stratify=train['isAlive'], random_state=42)\n",
        "\n",
        "train, val = train_test_split(train, test_size=len(test), \n",
        "                              stratify=train['isAlive'], random_state=42)"
      ],
      "execution_count": 0,
      "outputs": []
    },
    {
      "cell_type": "code",
      "metadata": {
        "id": "YNf62fpjaWO2",
        "colab_type": "code",
        "colab": {
          "base_uri": "https://localhost:8080/",
          "height": 34
        },
        "outputId": "54c5b6da-fd99-48aa-aead-10af2b45d8db"
      },
      "source": [
        "train.shape, val.shape, test.shape"
      ],
      "execution_count": 5,
      "outputs": [
        {
          "output_type": "execute_result",
          "data": {
            "text/plain": [
              "((1166, 34), (390, 34), (390, 34))"
            ]
          },
          "metadata": {
            "tags": []
          },
          "execution_count": 5
        }
      ]
    },
    {
      "cell_type": "code",
      "metadata": {
        "id": "yoCcuFYmakDT",
        "colab_type": "code",
        "colab": {
          "base_uri": "https://localhost:8080/",
          "height": 292
        },
        "outputId": "e28f106b-42b5-4cf8-c9b1-97c0d023a2d9"
      },
      "source": [
        "!pip install category_encoders"
      ],
      "execution_count": 7,
      "outputs": [
        {
          "output_type": "stream",
          "text": [
            "Collecting category_encoders\n",
            "\u001b[?25l  Downloading https://files.pythonhosted.org/packages/a0/52/c54191ad3782de633ea3d6ee3bb2837bda0cf3bc97644bb6375cf14150a0/category_encoders-2.1.0-py2.py3-none-any.whl (100kB)\n",
            "\r\u001b[K     |███▎                            | 10kB 18.4MB/s eta 0:00:01\r\u001b[K     |██████▌                         | 20kB 3.1MB/s eta 0:00:01\r\u001b[K     |█████████▉                      | 30kB 4.5MB/s eta 0:00:01\r\u001b[K     |█████████████                   | 40kB 3.0MB/s eta 0:00:01\r\u001b[K     |████████████████▍               | 51kB 3.7MB/s eta 0:00:01\r\u001b[K     |███████████████████▋            | 61kB 4.3MB/s eta 0:00:01\r\u001b[K     |██████████████████████▉         | 71kB 5.0MB/s eta 0:00:01\r\u001b[K     |██████████████████████████▏     | 81kB 5.6MB/s eta 0:00:01\r\u001b[K     |█████████████████████████████▍  | 92kB 6.3MB/s eta 0:00:01\r\u001b[K     |████████████████████████████████| 102kB 3.7MB/s \n",
            "\u001b[?25hRequirement already satisfied: pandas>=0.21.1 in /usr/local/lib/python3.6/dist-packages (from category_encoders) (0.25.3)\n",
            "Requirement already satisfied: statsmodels>=0.6.1 in /usr/local/lib/python3.6/dist-packages (from category_encoders) (0.10.2)\n",
            "Requirement already satisfied: scikit-learn>=0.20.0 in /usr/local/lib/python3.6/dist-packages (from category_encoders) (0.22.2.post1)\n",
            "Requirement already satisfied: patsy>=0.4.1 in /usr/local/lib/python3.6/dist-packages (from category_encoders) (0.5.1)\n",
            "Requirement already satisfied: scipy>=0.19.0 in /usr/local/lib/python3.6/dist-packages (from category_encoders) (1.4.1)\n",
            "Requirement already satisfied: numpy>=1.11.3 in /usr/local/lib/python3.6/dist-packages (from category_encoders) (1.18.2)\n",
            "Requirement already satisfied: pytz>=2017.2 in /usr/local/lib/python3.6/dist-packages (from pandas>=0.21.1->category_encoders) (2018.9)\n",
            "Requirement already satisfied: python-dateutil>=2.6.1 in /usr/local/lib/python3.6/dist-packages (from pandas>=0.21.1->category_encoders) (2.8.1)\n",
            "Requirement already satisfied: joblib>=0.11 in /usr/local/lib/python3.6/dist-packages (from scikit-learn>=0.20.0->category_encoders) (0.14.1)\n",
            "Requirement already satisfied: six in /usr/local/lib/python3.6/dist-packages (from patsy>=0.4.1->category_encoders) (1.12.0)\n",
            "Installing collected packages: category-encoders\n",
            "Successfully installed category-encoders-2.1.0\n"
          ],
          "name": "stdout"
        }
      ]
    },
    {
      "cell_type": "code",
      "metadata": {
        "id": "y2TiJSJNaZvL",
        "colab_type": "code",
        "colab": {}
      },
      "source": [
        "import category_encoders as ce\n",
        "from sklearn.pipeline import make_pipeline\n",
        "from sklearn.ensemble import RandomForestClassifier\n",
        "from sklearn.impute import SimpleImputer\n",
        "from sklearn.preprocessing import StandardScaler"
      ],
      "execution_count": 0,
      "outputs": []
    },
    {
      "cell_type": "code",
      "metadata": {
        "id": "PszZiXspa7gZ",
        "colab_type": "code",
        "colab": {}
      },
      "source": [
        "train=data_wrangle(train)\n",
        "val=data_wrangle(val)\n",
        "test=data_wrangle(test)"
      ],
      "execution_count": 0,
      "outputs": []
    },
    {
      "cell_type": "code",
      "metadata": {
        "id": "Q-TxgDWzbCd0",
        "colab_type": "code",
        "colab": {
          "base_uri": "https://localhost:8080/",
          "height": 34
        },
        "outputId": "2bad1070-2c22-474d-dbf6-eb36120f3a65"
      },
      "source": [
        "train.shape, val.shape, test.shape"
      ],
      "execution_count": 11,
      "outputs": [
        {
          "output_type": "execute_result",
          "data": {
            "text/plain": [
              "((1166, 23), (390, 23), (390, 23))"
            ]
          },
          "metadata": {
            "tags": []
          },
          "execution_count": 11
        }
      ]
    },
    {
      "cell_type": "code",
      "metadata": {
        "id": "DNo_-Xukaihz",
        "colab_type": "code",
        "colab": {
          "base_uri": "https://localhost:8080/",
          "height": 51
        },
        "outputId": "609b7f25-b584-4647-dccf-ee5a4ee525cc"
      },
      "source": [
        "target='isAlive'\n",
        "features= train.drop(columns=[target]).columns\n",
        "# print(features)\n",
        "x_train=train[features]\n",
        "y_train=train[target]\n",
        "# y_train\n",
        "x_val=val[features]\n",
        "y_val=val[target]\n",
        "#x_test\n",
        "x_test=test[features]\n",
        "y_test=test[target]\n",
        "\n",
        "pipeline=make_pipeline(\n",
        "    ce.OrdinalEncoder(),\n",
        "    SimpleImputer(),\n",
        "    StandardScaler(),\n",
        "    RandomForestClassifier(random_state=42, n_jobs=-1, max_depth=3)\n",
        ")\n",
        "pipeline.fit(x_train,y_train)\n",
        "y_pred=pipeline.predict(x_test)\n",
        "print('Train Accuracy:', pipeline.score(x_train,y_train))\n",
        "print('Accuracy Score:', pipeline.score(x_val,y_val))"
      ],
      "execution_count": 12,
      "outputs": [
        {
          "output_type": "stream",
          "text": [
            "Train Accuracy: 0.7735849056603774\n",
            "Accuracy Score: 0.7615384615384615\n"
          ],
          "name": "stdout"
        }
      ]
    },
    {
      "cell_type": "code",
      "metadata": {
        "id": "Tcf4rWxRazVL",
        "colab_type": "code",
        "colab": {
          "base_uri": "https://localhost:8080/",
          "height": 607
        },
        "outputId": "a1435a32-22e5-4e15-f8a5-b8adfcb36f1d"
      },
      "source": [
        "# Get feature importances\n",
        "rf = pipeline.named_steps['randomforestclassifier']\n",
        "importances = pd.Series(rf.feature_importances_, x_train.columns)\n",
        "\n",
        "# Plot feature importances\n",
        "%matplotlib inline\n",
        "import matplotlib.pyplot as plt\n",
        "\n",
        "n = 20\n",
        "plt.figure(figsize=(10,n/2))\n",
        "plt.title(f'Top {n} features')\n",
        "importances.sort_values()[-n:].plot.barh(color='grey');"
      ],
      "execution_count": 14,
      "outputs": [
        {
          "output_type": "display_data",
          "data": {
            "image/png": "[encoded data removed]",
            "text/plain": [
              "<Figure size 720x720 with 1 Axes>"
            ]
          },
          "metadata": {
            "tags": []
          }
        }
      ]
    },
    {
      "cell_type": "code",
      "metadata": {
        "id": "s0xzP8rvb02q",
        "colab_type": "code",
        "colab": {
          "base_uri": "https://localhost:8080/",
          "height": 153
        },
        "outputId": "321ad4af-f50f-4fbe-f31c-a2a06e5ec288"
      },
      "source": [
        "transformers = make_pipeline(\n",
        "    ce.OrdinalEncoder(), \n",
        "    SimpleImputer(strategy='median') \n",
        ")\n",
        "\n",
        "x_train_transformed = transformers.fit_transform(x_train)\n",
        "x_val_transformed = transformers.transform(x_val)\n",
        "\n",
        "model = RandomForestClassifier(n_estimators=100, random_state=42, n_jobs=-1)\n",
        "model.fit(x_train_transformed, y_train)"
      ],
      "execution_count": 15,
      "outputs": [
        {
          "output_type": "execute_result",
          "data": {
            "text/plain": [
              "RandomForestClassifier(bootstrap=True, ccp_alpha=0.0, class_weight=None,\n",
              "                       criterion='gini', max_depth=None, max_features='auto',\n",
              "                       max_leaf_nodes=None, max_samples=None,\n",
              "                       min_impurity_decrease=0.0, min_impurity_split=None,\n",
              "                       min_samples_leaf=1, min_samples_split=2,\n",
              "                       min_weight_fraction_leaf=0.0, n_estimators=100,\n",
              "                       n_jobs=-1, oob_score=False, random_state=42, verbose=0,\n",
              "                       warm_start=False)"
            ]
          },
          "metadata": {
            "tags": []
          },
          "execution_count": 15
        }
      ]
    },
    {
      "cell_type": "code",
      "metadata": {
        "id": "DIfIHkwZeGUY",
        "colab_type": "code",
        "colab": {
          "base_uri": "https://localhost:8080/",
          "height": 292
        },
        "outputId": "2380e158-e3eb-4b8d-a8fb-2d4a093095ad"
      },
      "source": [
        "!pip install eli5"
      ],
      "execution_count": 17,
      "outputs": [
        {
          "output_type": "stream",
          "text": [
            "Collecting eli5\n",
            "\u001b[?25l  Downloading https://files.pythonhosted.org/packages/97/2f/c85c7d8f8548e460829971785347e14e45fa5c6617da374711dec8cb38cc/eli5-0.10.1-py2.py3-none-any.whl (105kB)\n",
            "\r\u001b[K     |███                             | 10kB 19.4MB/s eta 0:00:01\r\u001b[K     |██████▏                         | 20kB 3.1MB/s eta 0:00:01\r\u001b[K     |█████████▎                      | 30kB 4.2MB/s eta 0:00:01\r\u001b[K     |████████████▍                   | 40kB 2.9MB/s eta 0:00:01\r\u001b[K     |███████████████▌                | 51kB 3.3MB/s eta 0:00:01\r\u001b[K     |██████████████████▋             | 61kB 3.9MB/s eta 0:00:01\r\u001b[K     |█████████████████████▊          | 71kB 4.0MB/s eta 0:00:01\r\u001b[K     |████████████████████████▊       | 81kB 4.4MB/s eta 0:00:01\r\u001b[K     |███████████████████████████▉    | 92kB 4.9MB/s eta 0:00:01\r\u001b[K     |███████████████████████████████ | 102kB 4.8MB/s eta 0:00:01\r\u001b[K     |████████████████████████████████| 112kB 4.8MB/s \n",
            "\u001b[?25hRequirement already satisfied: numpy>=1.9.0 in /usr/local/lib/python3.6/dist-packages (from eli5) (1.18.2)\n",
            "Requirement already satisfied: tabulate>=0.7.7 in /usr/local/lib/python3.6/dist-packages (from eli5) (0.8.7)\n",
            "Requirement already satisfied: graphviz in /usr/local/lib/python3.6/dist-packages (from eli5) (0.10.1)\n",
            "Requirement already satisfied: six in /usr/local/lib/python3.6/dist-packages (from eli5) (1.12.0)\n",
            "Requirement already satisfied: scipy in /usr/local/lib/python3.6/dist-packages (from eli5) (1.4.1)\n",
            "Requirement already satisfied: attrs>16.0.0 in /usr/local/lib/python3.6/dist-packages (from eli5) (19.3.0)\n",
            "Requirement already satisfied: scikit-learn>=0.18 in /usr/local/lib/python3.6/dist-packages (from eli5) (0.22.2.post1)\n",
            "Requirement already satisfied: jinja2 in /usr/local/lib/python3.6/dist-packages (from eli5) (2.11.1)\n",
            "Requirement already satisfied: joblib>=0.11 in /usr/local/lib/python3.6/dist-packages (from scikit-learn>=0.18->eli5) (0.14.1)\n",
            "Requirement already satisfied: MarkupSafe>=0.23 in /usr/local/lib/python3.6/dist-packages (from jinja2->eli5) (1.1.1)\n",
            "Installing collected packages: eli5\n",
            "Successfully installed eli5-0.10.1\n"
          ],
          "name": "stdout"
        }
      ]
    },
    {
      "cell_type": "code",
      "metadata": {
        "id": "M3EKSnczd-p-",
        "colab_type": "code",
        "colab": {
          "base_uri": "https://localhost:8080/",
          "height": 542
        },
        "outputId": "ee2d2e64-cde4-49a2-c42e-eee5b3c7095e"
      },
      "source": [
        "import eli5\n",
        "from eli5.sklearn import PermutationImportance\n",
        "\n",
        "permuter = PermutationImportance(\n",
        "    model,\n",
        "    scoring='accuracy',\n",
        "    n_iter=5,\n",
        "    random_state=42\n",
        ")\n",
        "\n",
        "permuter.fit(x_val_transformed, y_val)"
      ],
      "execution_count": 18,
      "outputs": [
        {
          "output_type": "stream",
          "text": [
            "/usr/local/lib/python3.6/dist-packages/sklearn/utils/deprecation.py:144: FutureWarning: The sklearn.metrics.scorer module is  deprecated in version 0.22 and will be removed in version 0.24. The corresponding classes / functions should instead be imported from sklearn.metrics. Anything that cannot be imported from sklearn.metrics is now part of the private API.\n",
            "  warnings.warn(message, FutureWarning)\n",
            "/usr/local/lib/python3.6/dist-packages/sklearn/utils/deprecation.py:144: FutureWarning: The sklearn.feature_selection.base module is  deprecated in version 0.22 and will be removed in version 0.24. The corresponding classes / functions should instead be imported from sklearn.feature_selection. Anything that cannot be imported from sklearn.feature_selection is now part of the private API.\n",
            "  warnings.warn(message, FutureWarning)\n",
            "Using TensorFlow backend.\n"
          ],
          "name": "stderr"
        },
        {
          "output_type": "display_data",
          "data": {
            "text/html": [
              "<p style=\"color: red;\">\n",
              "The default version of TensorFlow in Colab will switch to TensorFlow 2.x on the 27th of March, 2020.<br>\n",
              "We recommend you <a href=\"https://www.tensorflow.org/guide/migrate\" target=\"_blank\">upgrade</a> now\n",
              "or ensure your notebook will continue to use TensorFlow 1.x via the <code>%tensorflow_version 1.x</code> magic:\n",
              "<a href=\"https://colab.research.google.com/notebooks/tensorflow_version.ipynb\" target=\"_blank\">more info</a>.</p>\n"
            ],
            "text/plain": [
              "<IPython.core.display.HTML object>"
            ]
          },
          "metadata": {
            "tags": []
          }
        },
        {
          "output_type": "execute_result",
          "data": {
            "text/plain": [
              "PermutationImportance(cv='prefit',\n",
              "                      estimator=RandomForestClassifier(bootstrap=True,\n",
              "                                                       ccp_alpha=0.0,\n",
              "                                                       class_weight=None,\n",
              "                                                       criterion='gini',\n",
              "                                                       max_depth=None,\n",
              "                                                       max_features='auto',\n",
              "                                                       max_leaf_nodes=None,\n",
              "                                                       max_samples=None,\n",
              "                                                       min_impurity_decrease=0.0,\n",
              "                                                       min_impurity_split=None,\n",
              "                                                       min_samples_leaf=1,\n",
              "                                                       min_samples_split=2,\n",
              "                                                       min_weight_fraction_leaf=0.0,\n",
              "                                                       n_estimators=100,\n",
              "                                                       n_jobs=-1,\n",
              "                                                       oob_score=False,\n",
              "                                                       random_state=42,\n",
              "                                                       verbose=0,\n",
              "                                                       warm_start=False),\n",
              "                      n_iter=5, random_state=42, refit=True,\n",
              "                      scoring='accuracy')"
            ]
          },
          "metadata": {
            "tags": []
          },
          "execution_count": 18
        }
      ]
    },
    {
      "cell_type": "code",
      "metadata": {
        "id": "0hj24HVieEI9",
        "colab_type": "code",
        "colab": {
          "base_uri": "https://localhost:8080/",
          "height": 408
        },
        "outputId": "43d6cee8-566e-4e32-8be9-2b99211f8e6b"
      },
      "source": [
        "feature_names = x_val.columns.tolist()\n",
        "pd.Series(permuter.feature_importances_, feature_names).sort_values()"
      ],
      "execution_count": 20,
      "outputs": [
        {
          "output_type": "execute_result",
          "data": {
            "text/plain": [
              "male                -0.008718\n",
              "Female              -0.005128\n",
              "house               -0.002051\n",
              "title               -0.001538\n",
              "isNoble             -0.001026\n",
              "culture             -0.000513\n",
              "boolDeadRelations   -0.000513\n",
              "spouse              -0.000513\n",
              "isMarried            0.000000\n",
              "isAliveHeir          0.000000\n",
              "name                 0.000000\n",
              "heir                 0.000000\n",
              "mother               0.000000\n",
              "father               0.000513\n",
              "isAliveMother        0.000513\n",
              "isAliveFather        0.001026\n",
              "isAliveSpouse        0.001538\n",
              "numDeadRelations     0.003077\n",
              "isPopular            0.004615\n",
              "dateOfBirth          0.031282\n",
              "popularity           0.034359\n",
              "age                  0.036923\n",
              "dtype: float64"
            ]
          },
          "metadata": {
            "tags": []
          },
          "execution_count": 20
        }
      ]
    },
    {
      "cell_type": "code",
      "metadata": {
        "id": "YDOeufYNeQZq",
        "colab_type": "code",
        "colab": {
          "base_uri": "https://localhost:8080/",
          "height": 408
        },
        "outputId": "2643883b-f7d4-4d71-8af6-ad79b2b3ced5"
      },
      "source": [
        "eli5.show_weights(\n",
        "    permuter,\n",
        "    top=None,\n",
        "    feature_names=feature_names\n",
        ")"
      ],
      "execution_count": 21,
      "outputs": [
        {
          "output_type": "execute_result",
          "data": {
            "text/html": [
              "\n",
              "    <style>\n",
              "    table.eli5-weights tr:hover {\n",
              "        filter: brightness(85%);\n",
              "    }\n",
              "</style>\n",
              "\n",
              "\n",
              "\n",
              "    \n",
              "\n",
              "    \n",
              "\n",
              "    \n",
              "\n",
              "    \n",
              "\n",
              "    \n",
              "\n",
              "    \n",
              "\n",
              "\n",
              "    \n",
              "\n",
              "    \n",
              "\n",
              "    \n",
              "\n",
              "    \n",
              "\n",
              "    \n",
              "\n",
              "    \n",
              "\n",
              "\n",
              "    \n",
              "\n",
              "    \n",
              "\n",
              "    \n",
              "\n",
              "    \n",
              "\n",
              "    \n",
              "        <table class=\"eli5-weights eli5-feature-importances\" style=\"border-collapse: collapse; border: none; margin-top: 0em; table-layout: auto;\">\n",
              "    <thead>\n",
              "    <tr style=\"border: none;\">\n",
              "        <th style=\"padding: 0 1em 0 0.5em; text-align: right; border: none;\">Weight</th>\n",
              "        <th style=\"padding: 0 0.5em 0 0.5em; text-align: left; border: none;\">Feature</th>\n",
              "    </tr>\n",
              "    </thead>\n",
              "    <tbody>\n",
              "    \n",
              "        <tr style=\"background-color: hsl(120, 100.00%, 80.00%); border: none;\">\n",
              "            <td style=\"padding: 0 1em 0 0.5em; text-align: right; border: none;\">\n",
              "                0.0369\n",
              "                \n",
              "                    &plusmn; 0.0204\n",
              "                \n",
              "            </td>\n",
              "            <td style=\"padding: 0 0.5em 0 0.5em; text-align: left; border: none;\">\n",
              "                age\n",
              "            </td>\n",
              "        </tr>\n",
              "    \n",
              "        <tr style=\"background-color: hsl(120, 100.00%, 80.98%); border: none;\">\n",
              "            <td style=\"padding: 0 1em 0 0.5em; text-align: right; border: none;\">\n",
              "                0.0344\n",
              "                \n",
              "                    &plusmn; 0.0333\n",
              "                \n",
              "            </td>\n",
              "            <td style=\"padding: 0 0.5em 0 0.5em; text-align: left; border: none;\">\n",
              "                popularity\n",
              "            </td>\n",
              "        </tr>\n",
              "    \n",
              "        <tr style=\"background-color: hsl(120, 100.00%, 82.19%); border: none;\">\n",
              "            <td style=\"padding: 0 1em 0 0.5em; text-align: right; border: none;\">\n",
              "                0.0313\n",
              "                \n",
              "                    &plusmn; 0.0211\n",
              "                \n",
              "            </td>\n",
              "            <td style=\"padding: 0 0.5em 0 0.5em; text-align: left; border: none;\">\n",
              "                dateOfBirth\n",
              "            </td>\n",
              "        </tr>\n",
              "    \n",
              "        <tr style=\"background-color: hsl(120, 100.00%, 95.33%); border: none;\">\n",
              "            <td style=\"padding: 0 1em 0 0.5em; text-align: right; border: none;\">\n",
              "                0.0046\n",
              "                \n",
              "                    &plusmn; 0.0119\n",
              "                \n",
              "            </td>\n",
              "            <td style=\"padding: 0 0.5em 0 0.5em; text-align: left; border: none;\">\n",
              "                isPopular\n",
              "            </td>\n",
              "        </tr>\n",
              "    \n",
              "        <tr style=\"background-color: hsl(120, 100.00%, 96.49%); border: none;\">\n",
              "            <td style=\"padding: 0 1em 0 0.5em; text-align: right; border: none;\">\n",
              "                0.0031\n",
              "                \n",
              "                    &plusmn; 0.0088\n",
              "                \n",
              "            </td>\n",
              "            <td style=\"padding: 0 0.5em 0 0.5em; text-align: left; border: none;\">\n",
              "                numDeadRelations\n",
              "            </td>\n",
              "        </tr>\n",
              "    \n",
              "        <tr style=\"background-color: hsl(120, 100.00%, 97.84%); border: none;\">\n",
              "            <td style=\"padding: 0 1em 0 0.5em; text-align: right; border: none;\">\n",
              "                0.0015\n",
              "                \n",
              "                    &plusmn; 0.0041\n",
              "                \n",
              "            </td>\n",
              "            <td style=\"padding: 0 0.5em 0 0.5em; text-align: left; border: none;\">\n",
              "                isAliveSpouse\n",
              "            </td>\n",
              "        </tr>\n",
              "    \n",
              "        <tr style=\"background-color: hsl(120, 100.00%, 98.37%); border: none;\">\n",
              "            <td style=\"padding: 0 1em 0 0.5em; text-align: right; border: none;\">\n",
              "                0.0010\n",
              "                \n",
              "                    &plusmn; 0.0025\n",
              "                \n",
              "            </td>\n",
              "            <td style=\"padding: 0 0.5em 0 0.5em; text-align: left; border: none;\">\n",
              "                isAliveFather\n",
              "            </td>\n",
              "        </tr>\n",
              "    \n",
              "        <tr style=\"background-color: hsl(120, 100.00%, 99.00%); border: none;\">\n",
              "            <td style=\"padding: 0 1em 0 0.5em; text-align: right; border: none;\">\n",
              "                0.0005\n",
              "                \n",
              "                    &plusmn; 0.0021\n",
              "                \n",
              "            </td>\n",
              "            <td style=\"padding: 0 0.5em 0 0.5em; text-align: left; border: none;\">\n",
              "                isAliveMother\n",
              "            </td>\n",
              "        </tr>\n",
              "    \n",
              "        <tr style=\"background-color: hsl(120, 100.00%, 99.00%); border: none;\">\n",
              "            <td style=\"padding: 0 1em 0 0.5em; text-align: right; border: none;\">\n",
              "                0.0005\n",
              "                \n",
              "                    &plusmn; 0.0021\n",
              "                \n",
              "            </td>\n",
              "            <td style=\"padding: 0 0.5em 0 0.5em; text-align: left; border: none;\">\n",
              "                father\n",
              "            </td>\n",
              "        </tr>\n",
              "    \n",
              "        <tr style=\"background-color: hsl(0, 100.00%, 100.00%); border: none;\">\n",
              "            <td style=\"padding: 0 1em 0 0.5em; text-align: right; border: none;\">\n",
              "                0\n",
              "                \n",
              "                    &plusmn; 0.0000\n",
              "                \n",
              "            </td>\n",
              "            <td style=\"padding: 0 0.5em 0 0.5em; text-align: left; border: none;\">\n",
              "                mother\n",
              "            </td>\n",
              "        </tr>\n",
              "    \n",
              "        <tr style=\"background-color: hsl(0, 100.00%, 100.00%); border: none;\">\n",
              "            <td style=\"padding: 0 1em 0 0.5em; text-align: right; border: none;\">\n",
              "                0\n",
              "                \n",
              "                    &plusmn; 0.0000\n",
              "                \n",
              "            </td>\n",
              "            <td style=\"padding: 0 0.5em 0 0.5em; text-align: left; border: none;\">\n",
              "                heir\n",
              "            </td>\n",
              "        </tr>\n",
              "    \n",
              "        <tr style=\"background-color: hsl(0, 100.00%, 100.00%); border: none;\">\n",
              "            <td style=\"padding: 0 1em 0 0.5em; text-align: right; border: none;\">\n",
              "                0\n",
              "                \n",
              "                    &plusmn; 0.0000\n",
              "                \n",
              "            </td>\n",
              "            <td style=\"padding: 0 0.5em 0 0.5em; text-align: left; border: none;\">\n",
              "                name\n",
              "            </td>\n",
              "        </tr>\n",
              "    \n",
              "        <tr style=\"background-color: hsl(0, 100.00%, 100.00%); border: none;\">\n",
              "            <td style=\"padding: 0 1em 0 0.5em; text-align: right; border: none;\">\n",
              "                0.0000\n",
              "                \n",
              "                    &plusmn; 0.0032\n",
              "                \n",
              "            </td>\n",
              "            <td style=\"padding: 0 0.5em 0 0.5em; text-align: left; border: none;\">\n",
              "                isAliveHeir\n",
              "            </td>\n",
              "        </tr>\n",
              "    \n",
              "        <tr style=\"background-color: hsl(0, 100.00%, 100.00%); border: none;\">\n",
              "            <td style=\"padding: 0 1em 0 0.5em; text-align: right; border: none;\">\n",
              "                0.0000\n",
              "                \n",
              "                    &plusmn; 0.0065\n",
              "                \n",
              "            </td>\n",
              "            <td style=\"padding: 0 0.5em 0 0.5em; text-align: left; border: none;\">\n",
              "                isMarried\n",
              "            </td>\n",
              "        </tr>\n",
              "    \n",
              "        <tr style=\"background-color: hsl(0, 100.00%, 99.00%); border: none;\">\n",
              "            <td style=\"padding: 0 1em 0 0.5em; text-align: right; border: none;\">\n",
              "                -0.0005\n",
              "                \n",
              "                    &plusmn; 0.0021\n",
              "                \n",
              "            </td>\n",
              "            <td style=\"padding: 0 0.5em 0 0.5em; text-align: left; border: none;\">\n",
              "                spouse\n",
              "            </td>\n",
              "        </tr>\n",
              "    \n",
              "        <tr style=\"background-color: hsl(0, 100.00%, 99.00%); border: none;\">\n",
              "            <td style=\"padding: 0 1em 0 0.5em; text-align: right; border: none;\">\n",
              "                -0.0005\n",
              "                \n",
              "                    &plusmn; 0.0075\n",
              "                \n",
              "            </td>\n",
              "            <td style=\"padding: 0 0.5em 0 0.5em; text-align: left; border: none;\">\n",
              "                boolDeadRelations\n",
              "            </td>\n",
              "        </tr>\n",
              "    \n",
              "        <tr style=\"background-color: hsl(0, 100.00%, 99.00%); border: none;\">\n",
              "            <td style=\"padding: 0 1em 0 0.5em; text-align: right; border: none;\">\n",
              "                -0.0005\n",
              "                \n",
              "                    &plusmn; 0.0131\n",
              "                \n",
              "            </td>\n",
              "            <td style=\"padding: 0 0.5em 0 0.5em; text-align: left; border: none;\">\n",
              "                culture\n",
              "            </td>\n",
              "        </tr>\n",
              "    \n",
              "        <tr style=\"background-color: hsl(0, 100.00%, 98.37%); border: none;\">\n",
              "            <td style=\"padding: 0 1em 0 0.5em; text-align: right; border: none;\">\n",
              "                -0.0010\n",
              "                \n",
              "                    &plusmn; 0.0106\n",
              "                \n",
              "            </td>\n",
              "            <td style=\"padding: 0 0.5em 0 0.5em; text-align: left; border: none;\">\n",
              "                isNoble\n",
              "            </td>\n",
              "        </tr>\n",
              "    \n",
              "        <tr style=\"background-color: hsl(0, 100.00%, 97.84%); border: none;\">\n",
              "            <td style=\"padding: 0 1em 0 0.5em; text-align: right; border: none;\">\n",
              "                -0.0015\n",
              "                \n",
              "                    &plusmn; 0.0083\n",
              "                \n",
              "            </td>\n",
              "            <td style=\"padding: 0 0.5em 0 0.5em; text-align: left; border: none;\">\n",
              "                title\n",
              "            </td>\n",
              "        </tr>\n",
              "    \n",
              "        <tr style=\"background-color: hsl(0, 100.00%, 97.36%); border: none;\">\n",
              "            <td style=\"padding: 0 1em 0 0.5em; text-align: right; border: none;\">\n",
              "                -0.0021\n",
              "                \n",
              "                    &plusmn; 0.0088\n",
              "                \n",
              "            </td>\n",
              "            <td style=\"padding: 0 0.5em 0 0.5em; text-align: left; border: none;\">\n",
              "                house\n",
              "            </td>\n",
              "        </tr>\n",
              "    \n",
              "        <tr style=\"background-color: hsl(0, 100.00%, 94.98%); border: none;\">\n",
              "            <td style=\"padding: 0 1em 0 0.5em; text-align: right; border: none;\">\n",
              "                -0.0051\n",
              "                \n",
              "                    &plusmn; 0.0213\n",
              "                \n",
              "            </td>\n",
              "            <td style=\"padding: 0 0.5em 0 0.5em; text-align: left; border: none;\">\n",
              "                Female\n",
              "            </td>\n",
              "        </tr>\n",
              "    \n",
              "        <tr style=\"background-color: hsl(0, 100.00%, 92.72%); border: none;\">\n",
              "            <td style=\"padding: 0 1em 0 0.5em; text-align: right; border: none;\">\n",
              "                -0.0087\n",
              "                \n",
              "                    &plusmn; 0.0259\n",
              "                \n",
              "            </td>\n",
              "            <td style=\"padding: 0 0.5em 0 0.5em; text-align: left; border: none;\">\n",
              "                male\n",
              "            </td>\n",
              "        </tr>\n",
              "    \n",
              "    \n",
              "    </tbody>\n",
              "</table>\n",
              "    \n",
              "\n",
              "    \n",
              "\n",
              "\n",
              "    \n",
              "\n",
              "    \n",
              "\n",
              "    \n",
              "\n",
              "    \n",
              "\n",
              "    \n",
              "\n",
              "    \n",
              "\n",
              "\n",
              "\n"
            ],
            "text/plain": [
              "<IPython.core.display.HTML object>"
            ]
          },
          "metadata": {
            "tags": []
          },
          "execution_count": 21
        }
      ]
    },
    {
      "cell_type": "code",
      "metadata": {
        "id": "SyLL7-kNenOT",
        "colab_type": "code",
        "colab": {}
      },
      "source": [
        "minimum_importance = 0\n",
        "mask = permuter.feature_importances_ > minimum_importance\n",
        "\n",
        "features = x_train.columns[mask]\n",
        "x_train = x_train[features]"
      ],
      "execution_count": 0,
      "outputs": []
    },
    {
      "cell_type": "code",
      "metadata": {
        "id": "txWx6zUteVv4",
        "colab_type": "code",
        "colab": {
          "base_uri": "https://localhost:8080/",
          "height": 34
        },
        "outputId": "c3d2f6df-0ac5-4e1c-9319-191e5dd7d571"
      },
      "source": [
        "x_val = x_val[features]\n",
        "\n",
        "pipeline = make_pipeline(\n",
        "    ce.OrdinalEncoder(), \n",
        "    SimpleImputer(strategy='median'), \n",
        "    RandomForestClassifier(n_estimators=100, random_state=42, n_jobs=-1)\n",
        ")\n",
        "\n",
        "# Fit on train, score on val\n",
        "pipeline.fit(x_train, y_train)\n",
        "print('Validation Accuracy', pipeline.score(x_val, y_val))"
      ],
      "execution_count": 24,
      "outputs": [
        {
          "output_type": "stream",
          "text": [
            "Validation Accuracy 0.7461538461538462\n"
          ],
          "name": "stdout"
        }
      ]
    },
    {
      "cell_type": "code",
      "metadata": {
        "id": "qKFFvuWce1vg",
        "colab_type": "code",
        "colab": {
          "base_uri": "https://localhost:8080/",
          "height": 34
        },
        "outputId": "cdfb6b26-f3f5-452b-a6a8-2f68d56e7456"
      },
      "source": [
        "from xgboost import XGBClassifier\n",
        "\n",
        "pipeline = make_pipeline(\n",
        "    ce.OrdinalEncoder(),\n",
        "    XGBClassifier(n_estimators=100, random_state=42, n_jobs=-1)\n",
        ")\n",
        "\n",
        "pipeline.fit(x_train, y_train)\n",
        "\n",
        "from sklearn.metrics import accuracy_score\n",
        "y_pred = pipeline.predict(x_val)\n",
        "print ('Validation accuracy', accuracy_score(y_val, y_pred))"
      ],
      "execution_count": 25,
      "outputs": [
        {
          "output_type": "stream",
          "text": [
            "Validation accuracy 0.7717948717948718\n"
          ],
          "name": "stdout"
        }
      ]
    },
    {
      "cell_type": "code",
      "metadata": {
        "id": "lksMQuHffREh",
        "colab_type": "code",
        "colab": {
          "base_uri": "https://localhost:8080/",
          "height": 34
        },
        "outputId": "4d2c74eb-0b7e-4d0c-e792-8c5da8952dfd"
      },
      "source": [
        "#previous was .71184\n",
        "from sklearn.metrics import roc_auc_score\n",
        "y_pred_proba = pipeline.predict_proba(x_val)[:, -1]\n",
        "roc_auc_score(y_val, y_pred_proba)"
      ],
      "execution_count": 29,
      "outputs": [
        {
          "output_type": "execute_result",
          "data": {
            "text/plain": [
              "0.7136832239925024"
            ]
          },
          "metadata": {
            "tags": []
          },
          "execution_count": 29
        }
      ]
    },
    {
      "cell_type": "code",
      "metadata": {
        "id": "vXEkuQAUfsPa",
        "colab_type": "code",
        "colab": {
          "base_uri": "https://localhost:8080/",
          "height": 884
        },
        "outputId": "bcc02e54-4df6-4919-fa71-ca46132872b5"
      },
      "source": [
        "from sklearn.metrics import roc_curve\n",
        "fpr, tpr, thresholds = roc_curve(y_val, y_pred_proba)\n",
        "(fpr, tpr, thresholds)"
      ],
      "execution_count": 30,
      "outputs": [
        {
          "output_type": "execute_result",
          "data": {
            "text/plain": [
              "(array([0.        , 0.01010101, 0.01010101, 0.02020202, 0.02020202,\n",
              "        0.04040404, 0.04040404, 0.05050505, 0.06060606, 0.06060606,\n",
              "        0.08080808, 0.08080808, 0.09090909, 0.09090909, 0.09090909,\n",
              "        0.09090909, 0.09090909, 0.09090909, 0.09090909, 0.09090909,\n",
              "        0.09090909, 0.09090909, 0.09090909, 0.1010101 , 0.11111111,\n",
              "        0.12121212, 0.12121212, 0.12121212, 0.12121212, 0.21212121,\n",
              "        0.21212121, 0.22222222, 0.22222222, 0.23232323, 0.23232323,\n",
              "        0.24242424, 0.24242424, 0.25252525, 0.25252525, 0.26262626,\n",
              "        0.26262626, 0.28282828, 0.32323232, 0.32323232, 0.33333333,\n",
              "        0.33333333, 0.34343434, 0.43434343, 0.43434343, 0.46464646,\n",
              "        0.47474747, 0.51515152, 0.53535354, 0.54545455, 0.54545455,\n",
              "        0.55555556, 0.55555556, 0.56565657, 0.57575758, 0.5959596 ,\n",
              "        0.60606061, 0.62626263, 0.62626263, 0.64646465, 0.74747475,\n",
              "        0.75757576, 0.75757576, 0.78787879, 0.78787879, 0.80808081,\n",
              "        0.80808081, 0.81818182, 0.81818182, 0.82828283, 0.82828283,\n",
              "        0.84848485, 0.84848485, 0.87878788, 0.91919192, 0.96969697,\n",
              "        0.98989899, 1.        , 1.        ]),\n",
              " array([0.        , 0.        , 0.00343643, 0.00343643, 0.01030928,\n",
              "        0.06185567, 0.07216495, 0.07560137, 0.08934708, 0.09621993,\n",
              "        0.26116838, 0.26460481, 0.26460481, 0.29209622, 0.29553265,\n",
              "        0.3024055 , 0.30927835, 0.3161512 , 0.32646048, 0.33333333,\n",
              "        0.33676976, 0.34364261, 0.34707904, 0.34707904, 0.35738832,\n",
              "        0.35738832, 0.36426117, 0.37113402, 0.37457045, 0.48453608,\n",
              "        0.48797251, 0.48797251, 0.49828179, 0.49828179, 0.51202749,\n",
              "        0.51202749, 0.51546392, 0.51546392, 0.51890034, 0.54295533,\n",
              "        0.54639175, 0.54639175, 0.66666667, 0.67353952, 0.67353952,\n",
              "        0.68041237, 0.6838488 , 0.72852234, 0.73195876, 0.76632302,\n",
              "        0.76632302, 0.80756014, 0.82130584, 0.82130584, 0.82474227,\n",
              "        0.82474227, 0.83161512, 0.83161512, 0.8419244 , 0.88316151,\n",
              "        0.88316151, 0.89003436, 0.89347079, 0.89347079, 0.94845361,\n",
              "        0.95189003, 0.96219931, 0.96219931, 0.96907216, 0.96907216,\n",
              "        0.97250859, 0.97250859, 0.97594502, 0.97594502, 0.98281787,\n",
              "        0.98281787, 0.99312715, 0.99312715, 0.99656357, 0.99656357,\n",
              "        0.99656357, 0.99656357, 1.        ]),\n",
              " array([1.9597653 , 0.9597653 , 0.95219386, 0.94176996, 0.93751323,\n",
              "        0.93211687, 0.9262502 , 0.92561245, 0.92215794, 0.9145435 ,\n",
              "        0.9108787 , 0.9069693 , 0.9054214 , 0.9046372 , 0.90248746,\n",
              "        0.89490503, 0.89081776, 0.8897858 , 0.88675123, 0.8848807 ,\n",
              "        0.881999  , 0.88073444, 0.8762878 , 0.87247634, 0.8702781 ,\n",
              "        0.8547769 , 0.8478233 , 0.84060395, 0.8338445 , 0.82156384,\n",
              "        0.8185602 , 0.81503534, 0.8081695 , 0.804334  , 0.79285747,\n",
              "        0.7919798 , 0.7820396 , 0.77621394, 0.77511925, 0.77450687,\n",
              "        0.7726603 , 0.7693229 , 0.76279426, 0.75599927, 0.753266  ,\n",
              "        0.7496514 , 0.7213041 , 0.71821   , 0.7175018 , 0.71410435,\n",
              "        0.705994  , 0.70159984, 0.70044726, 0.6995107 , 0.6990623 ,\n",
              "        0.69205576, 0.66159296, 0.6607147 , 0.66045487, 0.6579404 ,\n",
              "        0.64986485, 0.63727784, 0.61340564, 0.6071082 , 0.60459083,\n",
              "        0.6009498 , 0.57033575, 0.52443516, 0.44571975, 0.43449318,\n",
              "        0.42815897, 0.42519838, 0.38680193, 0.37950167, 0.3702223 ,\n",
              "        0.35883158, 0.34163544, 0.30931705, 0.29831475, 0.14175619,\n",
              "        0.10422194, 0.09292115, 0.07101499], dtype=float32))"
            ]
          },
          "metadata": {
            "tags": []
          },
          "execution_count": 30
        }
      ]
    },
    {
      "cell_type": "code",
      "metadata": {
        "id": "UN3rdOGjfu8K",
        "colab_type": "code",
        "colab": {
          "base_uri": "https://localhost:8080/",
          "height": 312
        },
        "outputId": "f28f2d14-48b0-4095-9d48-bbc9e2d2ea3c"
      },
      "source": [
        "import matplotlib.pyplot as plt\n",
        "plt.scatter(fpr, tpr)\n",
        "plt.plot(fpr, tpr)\n",
        "plt.title('ROC curve')\n",
        "plt.xlabel('False Positive Rate')\n",
        "plt.ylabel('True Positive Rate')"
      ],
      "execution_count": 31,
      "outputs": [
        {
          "output_type": "execute_result",
          "data": {
            "text/plain": [
              "Text(0, 0.5, 'True Positive Rate')"
            ]
          },
          "metadata": {
            "tags": []
          },
          "execution_count": 31
        },
        {
          "output_type": "display_data",
          "data": {
            "image/png": "[encoded data removed]",
            "text/plain": [
              "<Figure size 432x288 with 1 Axes>"
            ]
          },
          "metadata": {
            "tags": []
          }
        }
      ]
    },
    {
      "cell_type": "code",
      "metadata": {
        "id": "iaMe1qoMfyeo",
        "colab_type": "code",
        "colab": {}
      },
      "source": [
        ""
      ],
      "execution_count": 0,
      "outputs": []
    }
  ]
}